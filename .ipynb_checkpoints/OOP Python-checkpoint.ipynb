{
 "cells": [
  {
   "cell_type": "markdown",
   "id": "ef7f7430",
   "metadata": {},
   "source": [
    "# Building the Credit Card Class"
   ]
  },
  {
   "cell_type": "code",
   "execution_count": 1,
   "id": "27f3c930",
   "metadata": {},
   "outputs": [],
   "source": [
    "# Camel casing used in classes when names more than one word\n",
    "\n",
    "# The Credit Card Class\n",
    "class CreditCard:\n",
    "    \n",
    "    # The class construct\n",
    "    def __init__(self, cust_name, bank_name, act_no, limit):\n",
    "        self.cust_name = cust_name\n",
    "        self.bank_name = bank_name\n",
    "        self.act_no = act_no\n",
    "        self.balance = 0\n",
    "        self.limit = limit\n",
    "        \n",
    "    # Member Functions\n",
    "    def get_customer(self):\n",
    "        return self.cust_name\n",
    "    \n",
    "    def get_bank(self):\n",
    "        return self.bank_name\n",
    "    \n",
    "    def get_account_no(self):\n",
    "        return self.act_no\n",
    "    \n",
    "    def get_balance(self):\n",
    "        return self.balance\n",
    "    \n",
    "    def get_limit(self):\n",
    "        return self.limit\n",
    "    \n",
    "    def charge(self, price):\n",
    "        \n",
    "        # Checking if the transaction would or wouldnt bounce\n",
    "        if self.balance + price > limit:\n",
    "            return False\n",
    "        \n",
    "        else:\n",
    "            self.balance += price\n",
    "            return True\n",
    "        \n",
    "    def payment(self, amount):\n",
    "        self.balance -= amount"
   ]
  },
  {
   "cell_type": "markdown",
   "id": "3f55fd31",
   "metadata": {},
   "source": [
    "# Using inheritance"
   ]
  },
  {
   "cell_type": "code",
   "execution_count": 14,
   "id": "b1d1194a",
   "metadata": {},
   "outputs": [],
   "source": [
    "class DebitCard(CreditCard):\n",
    "    \n",
    "    # Construct of the new class\n",
    "    def __init__(self, cust_name, bank_name, act_no, limit, balance):\n",
    "        \n",
    "        # Using the super function to inherit all the required data members from the parent class\n",
    "        super().__init__(cust_name, bank_name, act_no, limit)\n",
    "        \n",
    "        # Defining the data member specific to the given sub class\n",
    "        self.balance = balance\n",
    "        "
   ]
  },
  {
   "cell_type": "code",
   "execution_count": 16,
   "id": "1c5c696c",
   "metadata": {},
   "outputs": [],
   "source": [
    "cc = DebitCard(\"John\", \"1st Bank\", \"65960201000\", \"10000\", \"200000\")"
   ]
  },
  {
   "cell_type": "markdown",
   "id": "4163a855",
   "metadata": {},
   "source": [
    "# Concepts of Object Orientation"
   ]
  },
  {
   "cell_type": "code",
   "execution_count": 1,
   "id": "0ea431e0",
   "metadata": {},
   "outputs": [],
   "source": [
    "# Parent Class - Employee\n",
    "class Employee:\n",
    "    \n",
    "    def __init__(self, name, dept, salary):\n",
    "        self.name = name\n",
    "        self.dept = dept\n",
    "        self.salary = salary\n",
    "        \n",
    "    def __str__(self):\n",
    "        return f\"{self.name} works in {self.dept} and earns {self.salary}\"\n",
    "    \n",
    "    def get_dept(self):\n",
    "        return self.dept\n",
    "    \n",
    "    def get_salary(self):\n",
    "        return self.salary"
   ]
  },
  {
   "cell_type": "code",
   "execution_count": 3,
   "id": "4f2dffef",
   "metadata": {},
   "outputs": [
    {
     "name": "stdout",
     "output_type": "stream",
     "text": [
      "Anil works in AI and earns 100000000000000\n"
     ]
    }
   ],
   "source": [
    "# Using special methods to cater to different builtin functions\n",
    "emp1 = Employee(\"Anil\", \"AI\", 100000000000000)\n",
    "print(emp1)"
   ]
  },
  {
   "cell_type": "code",
   "execution_count": 5,
   "id": "d2f5f709",
   "metadata": {},
   "outputs": [
    {
     "name": "stdout",
     "output_type": "stream",
     "text": [
      "AI\n",
      "100000000000000\n"
     ]
    }
   ],
   "source": [
    "# Using member functions\n",
    "print(emp1.get_dept())\n",
    "print(emp1.get_salary())"
   ]
  },
  {
   "cell_type": "markdown",
   "id": "09ebbaf7",
   "metadata": {},
   "source": [
    "# Inheritance"
   ]
  },
  {
   "cell_type": "code",
   "execution_count": 18,
   "id": "f55a29de",
   "metadata": {},
   "outputs": [],
   "source": [
    "class Developer(Employee):\n",
    "    \n",
    "    # Construct of the child class\n",
    "    def __init__(self, name, dept, salary, prog_lang):\n",
    "        \n",
    "        # Inheriting the parent class\n",
    "        super().__init__(name, dept, salary)\n",
    "        \n",
    "        # Defining the data member unique to this class\n",
    "        self.prog_lang = prog_lang\n",
    "        \n",
    "    def __str__(self):\n",
    "        return super().__str__() + f\" familiar with {self.prog_lang}\"\n",
    "        \n",
    "    def get_prog_lang(self):\n",
    "        return self.prog_lang\n",
    "    \n",
    "    def get_dept(self):\n",
    "        return f\"works in {self.dept} using {self.prog_lang}\"\n",
    "    \n",
    "    # Refering to any of the methods defined above for another function\n",
    "    def get_profile(self):\n",
    "        return self.__str__()"
   ]
  },
  {
   "cell_type": "code",
   "execution_count": 19,
   "id": "1e8a1229",
   "metadata": {},
   "outputs": [
    {
     "name": "stdout",
     "output_type": "stream",
     "text": [
      "Anil works in AI and earns 10000000 familiar with Python\n"
     ]
    }
   ],
   "source": [
    "# Even special methods can be inherited through pythons inheritance\n",
    "dev1 = Developer(\"Anil\", \"AI\", 10000000, \"Python\")\n",
    "print(dev1)"
   ]
  },
  {
   "cell_type": "code",
   "execution_count": 15,
   "id": "267bcbd9",
   "metadata": {},
   "outputs": [
    {
     "name": "stdout",
     "output_type": "stream",
     "text": [
      "This is the overloaded function:  works in AI using Python\n",
      "This is the member function:  Python\n"
     ]
    }
   ],
   "source": [
    "# Overloaded function\n",
    "print(\"This is the overloaded function: \", dev1.get_dept())\n",
    "\n",
    "# Member functions\n",
    "print(\"This is the member function: \", dev1.get_prog_lang())"
   ]
  },
  {
   "cell_type": "code",
   "execution_count": 20,
   "id": "c93eea01",
   "metadata": {},
   "outputs": [
    {
     "name": "stdout",
     "output_type": "stream",
     "text": [
      "Anil works in AI and earns 10000000 familiar with Python\n"
     ]
    }
   ],
   "source": [
    "# Accessing the predefined function in another function\n",
    "print(dev1.get_profile())"
   ]
  },
  {
   "cell_type": "markdown",
   "id": "9758c842",
   "metadata": {},
   "source": [
    "# Exercises"
   ]
  },
  {
   "cell_type": "code",
   "execution_count": 21,
   "id": "79c13ba7",
   "metadata": {},
   "outputs": [
    {
     "name": "stdout",
     "output_type": "stream",
     "text": [
      "Iris\n",
      "3\n",
      "32\n"
     ]
    }
   ],
   "source": [
    "# R - 2.4\n",
    "\n",
    "class Flower:\n",
    "    \n",
    "    def __init__(self, name, no_of_petals, price):\n",
    "        self.name = name\n",
    "        self.no_of_petals = no_of_petals\n",
    "        self.price = price\n",
    "        \n",
    "    def get_name(self):\n",
    "        return self.name\n",
    "    \n",
    "    def get_no_of_petals(self):\n",
    "        return self.no_of_petals\n",
    "    \n",
    "    def get_price(self):\n",
    "        return self.price\n",
    "    \n",
    "flw1 = Flower(\"Iris\", 3, 32)\n",
    "print(flw1.get_name())\n",
    "print(flw1.get_no_of_petals())\n",
    "print(flw1.get_price())"
   ]
  },
  {
   "cell_type": "code",
   "execution_count": 39,
   "id": "1ea55bfe",
   "metadata": {},
   "outputs": [],
   "source": [
    "# R - 2.5, 2.6, 2.7\n",
    "\n",
    "# Camel casing used in classes when names more than one word\n",
    "\n",
    "# The Credit Card Class\n",
    "class CreditCard:\n",
    "    \n",
    "    # The class construct\n",
    "    def __init__(self, cust_name, bank_name, act_no, limit, balance = 0):\n",
    "        self.cust_name = cust_name\n",
    "        self.bank_name = bank_name\n",
    "        self.act_no = act_no\n",
    "        self.balance = balance\n",
    "        self.limit = limit\n",
    "        \n",
    "    # Member Functions\n",
    "    def get_customer(self):\n",
    "        return self.cust_name\n",
    "    \n",
    "    def get_bank(self):\n",
    "        return self.bank_name\n",
    "    \n",
    "    def get_account_no(self):\n",
    "        return self.act_no\n",
    "    \n",
    "    def get_balance(self):\n",
    "        return self.balance\n",
    "    \n",
    "    def get_limit(self):\n",
    "        return self.limit\n",
    "    \n",
    "    def charge(self, price):\n",
    "        \n",
    "        # Checking if the given parameter is an int\n",
    "        if isinstance(price, (int, float)):\n",
    "        \n",
    "            # Checking if the transaction would or wouldnt bounce\n",
    "            if self.balance + price > self.limit:\n",
    "                return False\n",
    "\n",
    "            else:\n",
    "                self.balance += price\n",
    "                return True\n",
    "            \n",
    "        else:\n",
    "            print(\"The given price isnt a number, please enter numbers\")\n",
    "            \n",
    "    def payment(self, amount):\n",
    "        \n",
    "        if not isinstance(amount, (int, float)):\n",
    "            print(\"The given price isnt a number, please enter numbers\")\n",
    "        \n",
    "        elif amount < 0:\n",
    "            raise ValueError\n",
    "        \n",
    "        else:\n",
    "            self.balance -= amount"
   ]
  },
  {
   "cell_type": "code",
   "execution_count": 44,
   "id": "2ae247e5",
   "metadata": {},
   "outputs": [
    {
     "name": "stdout",
     "output_type": "stream",
     "text": [
      "10000000000000\n",
      "65960\n"
     ]
    }
   ],
   "source": [
    "cc = CreditCard(\"Anil\", \"1st Bank\", 65960, 10000000000000, 100000)\n",
    "print(cc.get_limit())\n",
    "print(cc.get_account_no())"
   ]
  },
  {
   "cell_type": "code",
   "execution_count": 45,
   "id": "3b8071c9",
   "metadata": {},
   "outputs": [
    {
     "name": "stdout",
     "output_type": "stream",
     "text": [
      "100069\n"
     ]
    }
   ],
   "source": [
    "cc.charge(69)\n",
    "print(cc.get_balance())"
   ]
  },
  {
   "cell_type": "code",
   "execution_count": 46,
   "id": "93c89a41",
   "metadata": {},
   "outputs": [
    {
     "ename": "ValueError",
     "evalue": "",
     "output_type": "error",
     "traceback": [
      "\u001b[0;31m---------------------------------------------------------------------------\u001b[0m",
      "\u001b[0;31mValueError\u001b[0m                                Traceback (most recent call last)",
      "Input \u001b[0;32mIn [46]\u001b[0m, in \u001b[0;36m<cell line: 1>\u001b[0;34m()\u001b[0m\n\u001b[0;32m----> 1\u001b[0m \u001b[43mcc\u001b[49m\u001b[38;5;241;43m.\u001b[39;49m\u001b[43mpayment\u001b[49m\u001b[43m(\u001b[49m\u001b[38;5;241;43m-\u001b[39;49m\u001b[38;5;241;43m69\u001b[39;49m\u001b[43m)\u001b[49m\n\u001b[1;32m      2\u001b[0m \u001b[38;5;28mprint\u001b[39m(cc\u001b[38;5;241m.\u001b[39mget_balance())\n",
      "Input \u001b[0;32mIn [39]\u001b[0m, in \u001b[0;36mCreditCard.payment\u001b[0;34m(self, amount)\u001b[0m\n\u001b[1;32m     51\u001b[0m     \u001b[38;5;28mprint\u001b[39m(\u001b[38;5;124m\"\u001b[39m\u001b[38;5;124mThe given price isnt a number, please enter numbers\u001b[39m\u001b[38;5;124m\"\u001b[39m)\n\u001b[1;32m     53\u001b[0m \u001b[38;5;28;01melif\u001b[39;00m amount \u001b[38;5;241m<\u001b[39m \u001b[38;5;241m0\u001b[39m:\n\u001b[0;32m---> 54\u001b[0m     \u001b[38;5;28;01mraise\u001b[39;00m \u001b[38;5;167;01mValueError\u001b[39;00m\n\u001b[1;32m     56\u001b[0m \u001b[38;5;28;01melse\u001b[39;00m:\n\u001b[1;32m     57\u001b[0m     \u001b[38;5;28mself\u001b[39m\u001b[38;5;241m.\u001b[39mbalance \u001b[38;5;241m-\u001b[39m\u001b[38;5;241m=\u001b[39m amount\n",
      "\u001b[0;31mValueError\u001b[0m: "
     ]
    }
   ],
   "source": [
    "cc.payment(-69)\n",
    "print(cc.get_balance())"
   ]
  },
  {
   "cell_type": "code",
   "execution_count": 47,
   "id": "c1a01fe3",
   "metadata": {},
   "outputs": [
    {
     "name": "stdout",
     "output_type": "stream",
     "text": [
      "100069\n"
     ]
    }
   ],
   "source": [
    "print(cc.get_balance())"
   ]
  },
  {
   "cell_type": "code",
   "execution_count": null,
   "id": "b3a9a1a7",
   "metadata": {},
   "outputs": [],
   "source": [
    "# R - 2.17\n",
    "\n",
    "class Goat:\n",
    "    "
   ]
  }
 ],
 "metadata": {
  "kernelspec": {
   "display_name": "Python 3 (ipykernel)",
   "language": "python",
   "name": "python3"
  },
  "language_info": {
   "codemirror_mode": {
    "name": "ipython",
    "version": 3
   },
   "file_extension": ".py",
   "mimetype": "text/x-python",
   "name": "python",
   "nbconvert_exporter": "python",
   "pygments_lexer": "ipython3",
   "version": "3.9.13"
  }
 },
 "nbformat": 4,
 "nbformat_minor": 5
}
