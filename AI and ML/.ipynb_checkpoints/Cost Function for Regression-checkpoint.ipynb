{
 "cells": [
  {
   "cell_type": "markdown",
   "id": "d7293f91",
   "metadata": {},
   "source": [
    "# Creating the Cost Function for Linear Regression with One Variable\n",
    "\n",
    "`J(w, b)` = (1 / 2m) * sum( [f_wb(x ^ (i)) - y ^ (i)] ^ 2 )"
   ]
  },
  {
   "cell_type": "code",
   "execution_count": 1,
   "id": "b0326a43",
   "metadata": {},
   "outputs": [],
   "source": [
    "# Importing the necessary Libraries\n",
    "import numpy as np\n",
    "import matplotlib.pyplot as plt"
   ]
  },
  {
   "cell_type": "code",
   "execution_count": 2,
   "id": "14b3ed68",
   "metadata": {},
   "outputs": [],
   "source": [
    "# Training Data\n",
    "x_train = np.array([1.0, 2.0], dtype = \"float32\")\n",
    "y_train = np.array([300.0, 500.0], dtype = \"float32\")"
   ]
  },
  {
   "cell_type": "markdown",
   "id": "f4cc3008",
   "metadata": {},
   "source": [
    "## Computing the Cost of model"
   ]
  },
  {
   "cell_type": "code",
   "execution_count": 3,
   "id": "c087b549",
   "metadata": {},
   "outputs": [],
   "source": [
    "def compute_cost(x, y, w, b):\n",
    "    \n",
    "    \"\"\"\n",
    "    Computes the cost of the model for the predictions made\n",
    "    \n",
    "    Args:\n",
    "        x - Features\n",
    "        y - Target\n",
    "        w, b - Parameters of the model\n",
    "        \n",
    "    Output:\n",
    "        Return the cost of the predictions of the model\n",
    "    \"\"\"\n",
    "    \n",
    "    # No of examples in the training set\n",
    "    m = x.shape[0]\n",
    "    \n",
    "    # Total cost of the model\n",
    "    total_cost = 0\n",
    "    \n",
    "    # Looping to find the cost\n",
    "    for i in range(m):\n",
    "        \n",
    "        y_hat = w * x[i] + b\n",
    "        cost_val = (y_hat - y[i]) ** 2\n",
    "        total_cost += cost_val\n",
    "        \n",
    "    return (1 / (2 * m)) * total_cost\n",
    "    "
   ]
  },
  {
   "cell_type": "code",
   "execution_count": 6,
   "id": "4b181f50",
   "metadata": {},
   "outputs": [
    {
     "name": "stdout",
     "output_type": "stream",
     "text": [
      "1250.0\n"
     ]
    }
   ],
   "source": [
    "# Printing the cost of the model\n",
    "print(compute_cost(x_train, y_train, 200, 50))"
   ]
  },
  {
   "cell_type": "code",
   "execution_count": null,
   "id": "561807bc",
   "metadata": {},
   "outputs": [],
   "source": [
    "def compute_prediction(x, y, w, b):\n",
    "    \n",
    "    \"\"\"\n",
    "    Computes the cost of the model for the predictions made\n",
    "    \n",
    "    Args:\n",
    "        x - Features\n",
    "        y - Target\n",
    "        w, b - Parameters of the model\n",
    "        \n",
    "    Output:\n",
    "        Return the predictions of the model as an ndarray\n",
    "    \"\"\"\n",
    "    \n",
    "    m = x.shape[0]\n",
    "    predictions = np.zeros(m)\n",
    "    \n",
    "    for i in range(m):\n",
    "        \n",
    "        y_hat = w * x[i] + b\n",
    "        predictions[i] = y_hat"
   ]
  },
  {
   "cell_type": "code",
   "execution_count": 7,
   "id": "9fa15bc8",
   "metadata": {},
   "outputs": [],
   "source": [
    "# Using a larger dataset\n",
    "x_train = np.array([1.0, 1.7, 2.0, 2.5, 3.0, 3.2])\n",
    "y_train = np.array([250, 300, 480,  430,   630, 730,])"
   ]
  },
  {
   "cell_type": "code",
   "execution_count": null,
   "id": "200f9e90",
   "metadata": {},
   "outputs": [],
   "source": [
    "# Plotting the values\n",
    "plt.scatter()"
   ]
  }
 ],
 "metadata": {
  "kernelspec": {
   "display_name": "Python 3 (ipykernel)",
   "language": "python",
   "name": "python3"
  },
  "language_info": {
   "codemirror_mode": {
    "name": "ipython",
    "version": 3
   },
   "file_extension": ".py",
   "mimetype": "text/x-python",
   "name": "python",
   "nbconvert_exporter": "python",
   "pygments_lexer": "ipython3",
   "version": "3.9.13"
  }
 },
 "nbformat": 4,
 "nbformat_minor": 5
}
