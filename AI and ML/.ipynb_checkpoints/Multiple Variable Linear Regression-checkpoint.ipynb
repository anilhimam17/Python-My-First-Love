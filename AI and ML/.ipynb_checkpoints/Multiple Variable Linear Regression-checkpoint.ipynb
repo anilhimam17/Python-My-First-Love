{
 "cells": [
  {
   "cell_type": "markdown",
   "id": "9297b23a",
   "metadata": {},
   "source": [
    "# Multiple Linear Regression\n",
    "\n",
    "- Here the linear regression model calculates the prediction `y_hat` by taking `n features` into account\n",
    "\n",
    "- Each `ith` training example of the `m training examples` are accessed using `2 Dimensions [row, col]`\n",
    "\n",
    "- Model: f(`X`) = w[i] * x[i] + ..... + w[n] * x[n] + b\n",
    "\n",
    "- This model is run over `m training examples` to learn the data"
   ]
  },
  {
   "cell_type": "code",
   "execution_count": 1,
   "id": "e2ad2d3e",
   "metadata": {},
   "outputs": [],
   "source": [
    "# Importing the required libraries\n",
    "import numpy as np\n",
    "import matplotlib.pyplot as plt"
   ]
  },
  {
   "cell_type": "code",
   "execution_count": 3,
   "id": "1782ada6",
   "metadata": {},
   "outputs": [],
   "source": [
    "# Training data\n",
    "X_train = np.array([\n",
    "    [2104, 5, 1, 45], \n",
    "    [1416, 3, 2, 40], \n",
    "    [852, 2, 1, 35]\n",
    "])\n",
    "y_train = np.array([460, 232, 178])"
   ]
  },
  {
   "cell_type": "code",
   "execution_count": 4,
   "id": "baa7c8ef",
   "metadata": {},
   "outputs": [
    {
     "name": "stdout",
     "output_type": "stream",
     "text": [
      "X_train.shape: (3, 4), type: <class 'numpy.ndarray'>\n",
      "y_train.shape: (3,), type: <class 'numpy.ndarray'>\n"
     ]
    }
   ],
   "source": [
    "# Viewing the training data\n",
    "print(f\"X_train.shape: {X_train.shape}, type: {type(X_train)}\")\n",
    "print(f\"y_train.shape: {y_train.shape}, type: {type(y_train)}\")"
   ]
  },
  {
   "cell_type": "code",
   "execution_count": 5,
   "id": "eee4293b",
   "metadata": {},
   "outputs": [],
   "source": [
    "# Setting the intial values of the parameters\n",
    "w_in = np.array([0.39133535, 18.75376741, -53.36032453, -26.42131618])\n",
    "b_in = 785.18"
   ]
  },
  {
   "cell_type": "markdown",
   "id": "5addb15f",
   "metadata": {},
   "source": [
    "## Predicting a Value Without Vectoriasation"
   ]
  },
  {
   "cell_type": "code",
   "execution_count": 6,
   "id": "e6be4b57",
   "metadata": {},
   "outputs": [],
   "source": [
    "# Predicting the values without vectorisation\n",
    "def predict_single_loop(x, w, b):\n",
    "    \n",
    "    \"\"\"\n",
    "    Predicts the values of using the model without any vectorisation for a single example\n",
    "    Args:\n",
    "        x - Features\n",
    "        w, b - Parameters of the model\n",
    "        \n",
    "    Returns:\n",
    "        y_hat - Single prediction\n",
    "    \"\"\"\n",
    "    \n",
    "    # No of training examples\n",
    "    n = x.shape[0]\n",
    "    y_hat = 0\n",
    "    \n",
    "    # Calculating the prediction using multiple values\n",
    "    for i in range(n):\n",
    "        p_i = w[i] * x[i]\n",
    "        y_hat += p_i\n",
    "    \n",
    "    # Adding the constant\n",
    "    y_hat += b\n",
    "    return y_hat"
   ]
  },
  {
   "cell_type": "code",
   "execution_count": 8,
   "id": "41694de2",
   "metadata": {},
   "outputs": [
    {
     "name": "stdout",
     "output_type": "stream",
     "text": [
      "Single Row of Training Set:  [2104    5    1   45]\n",
      "The prediction: 459.99886082 \tActual Value: 460\n"
     ]
    }
   ],
   "source": [
    "# Predicting a single value using the model\n",
    "vec_x = X_train[0, :]\n",
    "y_hat = predict_single_loop(vec_x, w_in, b_in)\n",
    "\n",
    "print(\"Single Row of Training Set: \", vec_x)\n",
    "print(f\"The prediction: {y_hat} \\tActual Value: {y_train[0]}\")"
   ]
  },
  {
   "cell_type": "markdown",
   "id": "83228637",
   "metadata": {},
   "source": [
    "## Predicting a value with vectorisation"
   ]
  },
  {
   "cell_type": "code",
   "execution_count": 9,
   "id": "58f87427",
   "metadata": {},
   "outputs": [],
   "source": [
    "def predict(x, w, b):\n",
    "    \n",
    "    \"\"\"\n",
    "    Computes the prediction of the model using vectorisation\n",
    "    Args:\n",
    "        x - Features\n",
    "        w, b - Parameters of the model\n",
    "        \n",
    "    Return:\n",
    "        y_hat - Scalar prediction for the single training example\n",
    "    \"\"\"\n",
    "    \n",
    "    # Here np.dot() multiplies and takes the sum of all the weights\n",
    "    y_hat = np.dot(x, w) + b\n",
    "    \n",
    "    return y_hat"
   ]
  },
  {
   "cell_type": "code",
   "execution_count": 10,
   "id": "88777535",
   "metadata": {},
   "outputs": [
    {
     "name": "stdout",
     "output_type": "stream",
     "text": [
      "Single Row of Training Set:  [2104    5    1   45]\n",
      "The prediction: 459.99886082 \tActual Value: 460\n"
     ]
    }
   ],
   "source": [
    "print(\"Single Row of Training Set: \", vec_x)\n",
    "print(f\"The prediction: {y_hat} \\tActual Value: {y_train[0]}\")"
   ]
  },
  {
   "cell_type": "markdown",
   "id": "146aaaa1",
   "metadata": {},
   "source": [
    "## Computing the cost of the model for multiple variables\n",
    "\n",
    "- All the code below uses vectorisation"
   ]
  },
  {
   "cell_type": "code",
   "execution_count": 17,
   "id": "1872f9f5",
   "metadata": {},
   "outputs": [],
   "source": [
    "def compute_cost(X, y, w, b):\n",
    "    \n",
    "    \"\"\"\n",
    "    Returns the cost of the model after multiple variable linear regression\n",
    "    Args:\n",
    "        X - Features\n",
    "        y - Target\n",
    "        w, b - Parameters of the model\n",
    "        \n",
    "    Returns:\n",
    "        cost - Scalar cost of the model after predicting m training examples\n",
    "    \"\"\"\n",
    "    \n",
    "    # No of training examples\n",
    "    m = X.shape[0]\n",
    "    \n",
    "    # Cost\n",
    "    cost = 0\n",
    "    \n",
    "    # Looping to find the cost\n",
    "    for i in range(m):\n",
    "        \n",
    "        # Prediction\n",
    "        y_hat = np.dot(X[i], w) + b\n",
    "\n",
    "        # Error\n",
    "        err = (y_hat - y[i]) ** 2\n",
    "        \n",
    "        # Updating the cost\n",
    "        cost += err\n",
    "        \n",
    "    # Multiplying the constant\n",
    "    cost = (1 / (2 * m)) * cost\n",
    "    return cost"
   ]
  },
  {
   "cell_type": "markdown",
   "id": "b2955f02",
   "metadata": {},
   "source": [
    "## Computing the cost of the prechosen parameters"
   ]
  },
  {
   "cell_type": "code",
   "execution_count": 18,
   "id": "d90443b2",
   "metadata": {},
   "outputs": [
    {
     "name": "stdout",
     "output_type": "stream",
     "text": [
      "The cost of the model is:  6.480609223235037e-07\n"
     ]
    }
   ],
   "source": [
    "cost = compute_cost(X_train, y_train, w_in, b_in)\n",
    "print(\"The cost of the model is: \", cost)"
   ]
  },
  {
   "cell_type": "code",
   "execution_count": null,
   "id": "b9966451",
   "metadata": {},
   "outputs": [],
   "source": []
  }
 ],
 "metadata": {
  "kernelspec": {
   "display_name": "Python 3 (ipykernel)",
   "language": "python",
   "name": "python3"
  },
  "language_info": {
   "codemirror_mode": {
    "name": "ipython",
    "version": 3
   },
   "file_extension": ".py",
   "mimetype": "text/x-python",
   "name": "python",
   "nbconvert_exporter": "python",
   "pygments_lexer": "ipython3",
   "version": "3.9.13"
  }
 },
 "nbformat": 4,
 "nbformat_minor": 5
}
