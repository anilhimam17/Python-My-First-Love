{
 "cells": [
  {
   "cell_type": "code",
   "execution_count": 2,
   "id": "43222a89",
   "metadata": {},
   "outputs": [],
   "source": [
    "import numpy as np\n",
    "import pandas as pd"
   ]
  },
  {
   "cell_type": "markdown",
   "id": "f686f679",
   "metadata": {},
   "source": [
    "## Creating a pandas series\n",
    "\n",
    "- pd.Series(`data`, `labels`)\n",
    "\n",
    "- A pandas series can be created in two ways\n",
    "\n",
    "1) By Passing the necessary parameters into the `pd.Series()`\n",
    "\n",
    "2) By Passing a dictionary of key - value pairs to the `pd.Series()`"
   ]
  },
  {
   "cell_type": "code",
   "execution_count": 3,
   "id": "60312eb5",
   "metadata": {},
   "outputs": [
    {
     "name": "stdout",
     "output_type": "stream",
     "text": [
      "1      USA\n",
      "2    China\n",
      "3       UK\n",
      "4    Japan\n",
      "5    India\n",
      "dtype: object\n"
     ]
    }
   ],
   "source": [
    "labels = [i for i in range(1, 6)]\n",
    "values = [\"USA\", \"China\", \"UK\", \"Japan\", \"India\"]\n",
    "\n",
    "# Creating a pandas series using two lists\n",
    "series = pd.Series(data = values, index = labels)\n",
    "print(series)"
   ]
  },
  {
   "cell_type": "code",
   "execution_count": 4,
   "id": "c96e0953",
   "metadata": {},
   "outputs": [
    {
     "name": "stdout",
     "output_type": "stream",
     "text": [
      "1 USA\n",
      "2 China\n",
      "3 UK\n",
      "4 Japan\n",
      "5 India\n"
     ]
    }
   ],
   "source": [
    "# Printing the Series using indexes\n",
    "for i in labels:\n",
    "    print(i, series[i])"
   ]
  },
  {
   "cell_type": "code",
   "execution_count": 5,
   "id": "24cf8b91",
   "metadata": {},
   "outputs": [
    {
     "name": "stdout",
     "output_type": "stream",
     "text": [
      "1      Germany\n",
      "2       France\n",
      "3        Korea\n",
      "4       Canada\n",
      "5    Australia\n",
      "dtype: object\n"
     ]
    }
   ],
   "source": [
    "# Creating a Series from a dictionary\n",
    "dic = {1 : \"Germany\", 2 : \"France\", 3 : \"Korea\", 4 : \"Canada\", 5 : \"Australia\"}\n",
    "series2 = pd.Series(dic)\n",
    "print(series2)"
   ]
  },
  {
   "cell_type": "code",
   "execution_count": 6,
   "id": "f69af575",
   "metadata": {},
   "outputs": [
    {
     "name": "stdout",
     "output_type": "stream",
     "text": [
      "1 Germany\n",
      "2 France\n",
      "3 Korea\n",
      "4 Canada\n",
      "5 Australia\n"
     ]
    }
   ],
   "source": [
    "for i in labels:\n",
    "    print(i, series2[i])"
   ]
  },
  {
   "cell_type": "code",
   "execution_count": 7,
   "id": "403bfe89",
   "metadata": {},
   "outputs": [
    {
     "name": "stdout",
     "output_type": "stream",
     "text": [
      "1        USAGermany\n",
      "2       ChinaFrance\n",
      "3           UKKorea\n",
      "4       JapanCanada\n",
      "5    IndiaAustralia\n",
      "dtype: object\n"
     ]
    }
   ],
   "source": [
    "# Arithematic on the pandas series\n",
    "print(series + series2)"
   ]
  },
  {
   "cell_type": "markdown",
   "id": "f01ab876",
   "metadata": {},
   "source": [
    "## Working with Pandas Dataframes\n",
    "\n",
    "- A 2D datastructure which carries both the row and column wise information\n",
    "\n",
    "### Creating a Dataframe\n",
    "- pd.DataFrame(`data`, `rows`, `columns`)"
   ]
  },
  {
   "cell_type": "code",
   "execution_count": 8,
   "id": "29652bbd",
   "metadata": {},
   "outputs": [
    {
     "name": "stdout",
     "output_type": "stream",
     "text": [
      "          A         B         C         D         E\n",
      "0 -1.015657  0.255399  1.450900  0.907479 -0.912368\n",
      "1  0.019332 -0.552564  1.880839 -1.425081 -0.562465\n",
      "2 -0.283758 -1.185107 -0.922311 -0.786755  0.085414\n",
      "3  1.273420 -0.372467 -0.948524  0.685333 -1.419774\n",
      "4 -0.626735  0.539313  0.430386 -1.799865  1.197431\n"
     ]
    }
   ],
   "source": [
    "# Data to be stored in the dataframe\n",
    "data = np.random.randn(5, 5)\n",
    "\n",
    "# Creating the dataframe\n",
    "df = pd.DataFrame(data, index = [i for i in range(5)], columns = [\"A\", \"B\", \"C\", \"D\", \"E\"])\n",
    "print(df)"
   ]
  },
  {
   "cell_type": "markdown",
   "id": "110012ec",
   "metadata": {},
   "source": [
    "### Accessing a column from a dataframe\n",
    "- df[`column`]"
   ]
  },
  {
   "cell_type": "code",
   "execution_count": 9,
   "id": "da6cdcaa",
   "metadata": {},
   "outputs": [
    {
     "name": "stdout",
     "output_type": "stream",
     "text": [
      "0   -1.015657\n",
      "1    0.019332\n",
      "2   -0.283758\n",
      "3    1.273420\n",
      "4   -0.626735\n",
      "Name: A, dtype: float64\n"
     ]
    }
   ],
   "source": [
    "# Viewing a column of the dataframe\n",
    "print(df[\"A\"])"
   ]
  },
  {
   "cell_type": "markdown",
   "id": "e2b74e15",
   "metadata": {},
   "source": [
    "### Accessing a subset of the dataframe\n",
    "- df[[`Columns`]]"
   ]
  },
  {
   "cell_type": "code",
   "execution_count": 10,
   "id": "5e7e7b14",
   "metadata": {},
   "outputs": [
    {
     "name": "stdout",
     "output_type": "stream",
     "text": [
      "          A         C         E\n",
      "0 -1.015657  1.450900 -0.912368\n",
      "1  0.019332  1.880839 -0.562465\n",
      "2 -0.283758 -0.922311  0.085414\n",
      "3  1.273420 -0.948524 -1.419774\n",
      "4 -0.626735  0.430386  1.197431\n"
     ]
    }
   ],
   "source": [
    "# Viewing a subset of the dataframe\n",
    "print(df[[\"A\", \"C\", \"E\"]])"
   ]
  },
  {
   "cell_type": "markdown",
   "id": "88046094",
   "metadata": {},
   "source": [
    "### Deleting a column\n",
    "- df.drop(`column`, `axis`, `inplace`)"
   ]
  },
  {
   "cell_type": "code",
   "execution_count": 11,
   "id": "5349c4c6",
   "metadata": {},
   "outputs": [
    {
     "name": "stdout",
     "output_type": "stream",
     "text": [
      "Before Dropping E\n",
      "          A         B         C         D         E\n",
      "0 -1.015657  0.255399  1.450900  0.907479 -0.912368\n",
      "1  0.019332 -0.552564  1.880839 -1.425081 -0.562465\n",
      "2 -0.283758 -1.185107 -0.922311 -0.786755  0.085414\n",
      "3  1.273420 -0.372467 -0.948524  0.685333 -1.419774\n",
      "4 -0.626735  0.539313  0.430386 -1.799865  1.197431\n",
      "\n",
      "\n",
      "After Dropping E - No Change as Inplace = False\n",
      "          A         B         C         D         E\n",
      "0 -1.015657  0.255399  1.450900  0.907479 -0.912368\n",
      "1  0.019332 -0.552564  1.880839 -1.425081 -0.562465\n",
      "2 -0.283758 -1.185107 -0.922311 -0.786755  0.085414\n",
      "3  1.273420 -0.372467 -0.948524  0.685333 -1.419774\n",
      "4 -0.626735  0.539313  0.430386 -1.799865  1.197431\n"
     ]
    }
   ],
   "source": [
    "# Dropping a column from the dataframe\n",
    "print(\"Before Dropping E\")\n",
    "print(df)\n",
    "\n",
    "df.drop(\"E\", axis = 1)\n",
    "\n",
    "print(\"\\n\\nAfter Dropping E - No Change as Inplace = False\")\n",
    "print(df)"
   ]
  },
  {
   "cell_type": "code",
   "execution_count": 12,
   "id": "2d4aa497",
   "metadata": {},
   "outputs": [
    {
     "name": "stdout",
     "output_type": "stream",
     "text": [
      "Before Dropping E\n",
      "          A         B         C         D         E\n",
      "0 -1.015657  0.255399  1.450900  0.907479 -0.912368\n",
      "1  0.019332 -0.552564  1.880839 -1.425081 -0.562465\n",
      "2 -0.283758 -1.185107 -0.922311 -0.786755  0.085414\n",
      "3  1.273420 -0.372467 -0.948524  0.685333 -1.419774\n",
      "4 -0.626735  0.539313  0.430386 -1.799865  1.197431\n",
      "\n",
      "\n",
      "After Dropping E - Permanent Change as Inplace = True\n",
      "          A         B         C         D\n",
      "0 -1.015657  0.255399  1.450900  0.907479\n",
      "1  0.019332 -0.552564  1.880839 -1.425081\n",
      "2 -0.283758 -1.185107 -0.922311 -0.786755\n",
      "3  1.273420 -0.372467 -0.948524  0.685333\n",
      "4 -0.626735  0.539313  0.430386 -1.799865\n"
     ]
    }
   ],
   "source": [
    "# Dropping a column from the dataframe\n",
    "print(\"Before Dropping E\")\n",
    "print(df)\n",
    "\n",
    "df.drop(\"E\", axis = 1, inplace = True)\n",
    "\n",
    "print(\"\\n\\nAfter Dropping E - Permanent Change as Inplace = True\")\n",
    "print(df)"
   ]
  },
  {
   "cell_type": "markdown",
   "id": "9c44df11",
   "metadata": {},
   "source": [
    "### Selecting rows of a dataframe\n",
    "\n",
    "- df.loc[`row`]: Using the row labels\n",
    "\n",
    "- df.iloc[`row index`]: Using the integer index values of all the rows"
   ]
  },
  {
   "cell_type": "code",
   "execution_count": 17,
   "id": "2370668d",
   "metadata": {},
   "outputs": [
    {
     "name": "stdout",
     "output_type": "stream",
     "text": [
      "Printing the second row:\n",
      "A    0.019332\n",
      "B   -0.552564\n",
      "C    1.880839\n",
      "D   -1.425081\n",
      "Name: 1, dtype: float64 \n",
      "\n",
      "\n",
      "Printing the third row:\n",
      "A   -0.283758\n",
      "B   -1.185107\n",
      "C   -0.922311\n",
      "D   -0.786755\n",
      "Name: 2, dtype: float64\n"
     ]
    }
   ],
   "source": [
    "print(\"Printing the second row:\")\n",
    "print(df.loc[1], \"\\n\\n\")\n",
    "\n",
    "print(\"Printing the third row:\")\n",
    "print(df.iloc[2])"
   ]
  },
  {
   "cell_type": "markdown",
   "id": "fc60ec61",
   "metadata": {},
   "source": [
    "### Accessing a specific value from the data frame\n",
    "\n",
    "- df.loc[`row`, `column`]"
   ]
  },
  {
   "cell_type": "code",
   "execution_count": 19,
   "id": "63bbf9b2",
   "metadata": {},
   "outputs": [
    {
     "name": "stdout",
     "output_type": "stream",
     "text": [
      "          A         B         C         D\n",
      "0 -1.015657  0.255399  1.450900  0.907479\n",
      "1  0.019332 -0.552564  1.880839 -1.425081\n",
      "2 -0.283758 -1.185107 -0.922311 -0.786755\n",
      "3  1.273420 -0.372467 -0.948524  0.685333\n",
      "4 -0.626735  0.539313  0.430386 -1.799865 \n",
      "\n",
      "\n",
      "The 3rd Row and 3rd Column of the DataFrame:  -0.9223110156240545\n"
     ]
    }
   ],
   "source": [
    "print(df, \"\\n\\n\")\n",
    "\n",
    "print(\"The 3rd Row and 3rd Column of the DataFrame: \", df.loc[2, \"C\"])"
   ]
  },
  {
   "cell_type": "markdown",
   "id": "dbc0f41d",
   "metadata": {},
   "source": [
    "### Accessing a subset of the dataframe\n",
    "\n",
    "- df.loc[[`rows`], [`columns`]]"
   ]
  },
  {
   "cell_type": "code",
   "execution_count": 20,
   "id": "5711011c",
   "metadata": {},
   "outputs": [
    {
     "name": "stdout",
     "output_type": "stream",
     "text": [
      "          A         D\n",
      "1  0.019332 -1.425081\n",
      "2 -0.283758 -0.786755\n"
     ]
    }
   ],
   "source": [
    "print(df.loc[[1, 2], [\"A\", \"D\"]])"
   ]
  },
  {
   "cell_type": "markdown",
   "id": "d7a4f23a",
   "metadata": {},
   "source": [
    "### Conditional Selection of the Dataframe"
   ]
  },
  {
   "cell_type": "code",
   "execution_count": 21,
   "id": "64920819",
   "metadata": {},
   "outputs": [
    {
     "name": "stdout",
     "output_type": "stream",
     "text": [
      "          A         B         C         D\n",
      "0 -1.015657  0.255399  1.450900  0.907479\n",
      "1  0.019332 -0.552564  1.880839 -1.425081\n",
      "2 -0.283758 -1.185107 -0.922311 -0.786755\n",
      "3  1.273420 -0.372467 -0.948524  0.685333\n",
      "4 -0.626735  0.539313  0.430386 -1.799865\n"
     ]
    }
   ],
   "source": [
    "print(df)"
   ]
  },
  {
   "cell_type": "code",
   "execution_count": 22,
   "id": "9fb9a68d",
   "metadata": {},
   "outputs": [
    {
     "name": "stdout",
     "output_type": "stream",
     "text": [
      "Displaying only values greater than 0 in Column - C\n",
      "0     True\n",
      "1     True\n",
      "2    False\n",
      "3    False\n",
      "4     True\n",
      "Name: C, dtype: bool\n"
     ]
    }
   ],
   "source": [
    "print(\"Displaying only values greater than 0 in Column - C\")\n",
    "print(df[\"C\"] > 0)"
   ]
  },
  {
   "cell_type": "code",
   "execution_count": 23,
   "id": "0208d400",
   "metadata": {},
   "outputs": [
    {
     "name": "stdout",
     "output_type": "stream",
     "text": [
      "Using the conditional selection on C to display rows in the entire DataFrame\n",
      "          A         B         C         D\n",
      "0 -1.015657  0.255399  1.450900  0.907479\n",
      "1  0.019332 -0.552564  1.880839 -1.425081\n",
      "4 -0.626735  0.539313  0.430386 -1.799865\n"
     ]
    }
   ],
   "source": [
    "print(\"Using the conditional selection on C to display rows in the entire DataFrame\")\n",
    "print(df[df[\"C\"] > 0])"
   ]
  },
  {
   "cell_type": "markdown",
   "id": "394cf356",
   "metadata": {},
   "source": [
    "### Multiple conditions in Pandas"
   ]
  },
  {
   "cell_type": "code",
   "execution_count": 24,
   "id": "2d959789",
   "metadata": {},
   "outputs": [
    {
     "name": "stdout",
     "output_type": "stream",
     "text": [
      "          A         B         C         D\n",
      "0 -1.015657  0.255399  1.450900  0.907479\n",
      "1  0.019332 -0.552564  1.880839 -1.425081\n",
      "2 -0.283758 -1.185107 -0.922311 -0.786755\n",
      "3  1.273420 -0.372467 -0.948524  0.685333\n",
      "4 -0.626735  0.539313  0.430386 -1.799865\n"
     ]
    }
   ],
   "source": [
    "print(df)"
   ]
  },
  {
   "cell_type": "code",
   "execution_count": 25,
   "id": "28a7acb3",
   "metadata": {},
   "outputs": [
    {
     "name": "stdout",
     "output_type": "stream",
     "text": [
      "Displaying values of the dataframe where B and C are > 0\n",
      "          A         B         C         D\n",
      "0 -1.015657  0.255399  1.450900  0.907479\n",
      "4 -0.626735  0.539313  0.430386 -1.799865\n"
     ]
    }
   ],
   "source": [
    "print(\"Displaying values of the dataframe where B and C are > 0\")\n",
    "print(df[(df[\"B\"] > 0) & (df[\"C\"] > 0)])"
   ]
  },
  {
   "cell_type": "markdown",
   "id": "deef37f5",
   "metadata": {},
   "source": [
    "### Resetting the Index Values of a DataFrame"
   ]
  },
  {
   "cell_type": "code",
   "execution_count": 27,
   "id": "e584f97d",
   "metadata": {},
   "outputs": [
    {
     "name": "stdout",
     "output_type": "stream",
     "text": [
      "   index         A         B         C         D\n",
      "0      0 -1.015657  0.255399  1.450900  0.907479\n",
      "1      1  0.019332 -0.552564  1.880839 -1.425081\n",
      "2      2 -0.283758 -1.185107 -0.922311 -0.786755\n",
      "3      3  1.273420 -0.372467 -0.948524  0.685333\n",
      "4      4 -0.626735  0.539313  0.430386 -1.799865\n"
     ]
    }
   ],
   "source": [
    "print(df.reset_index())"
   ]
  },
  {
   "cell_type": "markdown",
   "id": "39c94902",
   "metadata": {},
   "source": [
    "### Setting the values of Index to a column in the dataframe"
   ]
  },
  {
   "cell_type": "code",
   "execution_count": 28,
   "id": "1536f01a",
   "metadata": {},
   "outputs": [
    {
     "name": "stdout",
     "output_type": "stream",
     "text": [
      "          A         B         C         D       States\n",
      "0 -1.015657  0.255399  1.450900  0.907479       Bengal\n",
      "1  0.019332 -0.552564  1.880839 -1.425081  Maharashtra\n",
      "2 -0.283758 -1.185107 -0.922311 -0.786755    Karnataka\n",
      "3  1.273420 -0.372467 -0.948524  0.685333       Andhra\n",
      "4 -0.626735  0.539313  0.430386 -1.799865   Tamil Nadu\n"
     ]
    }
   ],
   "source": [
    "df[\"States\"] = [\"Bengal\", \"Maharashtra\", \"Karnataka\", \"Andhra\", \"Tamil Nadu\"]\n",
    "print(df)"
   ]
  },
  {
   "cell_type": "code",
   "execution_count": 29,
   "id": "cbb7d22b",
   "metadata": {},
   "outputs": [
    {
     "name": "stdout",
     "output_type": "stream",
     "text": [
      "                    A         B         C         D\n",
      "States                                             \n",
      "Bengal      -1.015657  0.255399  1.450900  0.907479\n",
      "Maharashtra  0.019332 -0.552564  1.880839 -1.425081\n",
      "Karnataka   -0.283758 -1.185107 -0.922311 -0.786755\n",
      "Andhra       1.273420 -0.372467 -0.948524  0.685333\n",
      "Tamil Nadu  -0.626735  0.539313  0.430386 -1.799865\n"
     ]
    }
   ],
   "source": [
    "print(df.set_index(\"States\"))"
   ]
  },
  {
   "cell_type": "markdown",
   "id": "2979b6ca",
   "metadata": {},
   "source": [
    "## Reading Data Using Pandas"
   ]
  },
  {
   "cell_type": "markdown",
   "id": "2a292074",
   "metadata": {},
   "source": [
    "- Reading a CSV using Pandas\n",
    "\n",
    "- pd.read_csv(`path`)"
   ]
  },
  {
   "cell_type": "code",
   "execution_count": 38,
   "id": "c5c74377",
   "metadata": {},
   "outputs": [
    {
     "name": "stdout",
     "output_type": "stream",
     "text": [
      "   label  pixel0  pixel1  pixel2  pixel3  pixel4  pixel5  pixel6  pixel7  \\\n",
      "0      1       0       0       0       0       0       0       0       0   \n",
      "1      0       0       0       0       0       0       0       0       0   \n",
      "2      1       0       0       0       0       0       0       0       0   \n",
      "3      4       0       0       0       0       0       0       0       0   \n",
      "4      0       0       0       0       0       0       0       0       0   \n",
      "\n",
      "   pixel8  ...  pixel774  pixel775  pixel776  pixel777  pixel778  pixel779  \\\n",
      "0       0  ...         0         0         0         0         0         0   \n",
      "1       0  ...         0         0         0         0         0         0   \n",
      "2       0  ...         0         0         0         0         0         0   \n",
      "3       0  ...         0         0         0         0         0         0   \n",
      "4       0  ...         0         0         0         0         0         0   \n",
      "\n",
      "   pixel780  pixel781  pixel782  pixel783  \n",
      "0         0         0         0         0  \n",
      "1         0         0         0         0  \n",
      "2         0         0         0         0  \n",
      "3         0         0         0         0  \n",
      "4         0         0         0         0  \n",
      "\n",
      "[5 rows x 785 columns]\n"
     ]
    }
   ],
   "source": [
    "data = pd.read_csv(\"../../Programming/digit-recognizer/train.csv\")\n",
    "print(data.head())"
   ]
  },
  {
   "cell_type": "markdown",
   "id": "144a8fab",
   "metadata": {},
   "source": [
    "## Using Group By in Pandas for Analysis\n",
    "\n",
    "- df.groupby(`column`)"
   ]
  },
  {
   "cell_type": "code",
   "execution_count": 40,
   "id": "bd22fc6d",
   "metadata": {},
   "outputs": [],
   "source": [
    "labels = data.groupby(\"label\")"
   ]
  },
  {
   "cell_type": "code",
   "execution_count": 41,
   "id": "027aa314",
   "metadata": {},
   "outputs": [
    {
     "name": "stdout",
     "output_type": "stream",
     "text": [
      "       pixel0  pixel1  pixel2  pixel3  pixel4  pixel5  pixel6  pixel7  pixel8  \\\n",
      "label                                                                           \n",
      "0        4132    4132    4132    4132    4132    4132    4132    4132    4132   \n",
      "1        4684    4684    4684    4684    4684    4684    4684    4684    4684   \n",
      "2        4177    4177    4177    4177    4177    4177    4177    4177    4177   \n",
      "3        4351    4351    4351    4351    4351    4351    4351    4351    4351   \n",
      "4        4072    4072    4072    4072    4072    4072    4072    4072    4072   \n",
      "5        3795    3795    3795    3795    3795    3795    3795    3795    3795   \n",
      "6        4137    4137    4137    4137    4137    4137    4137    4137    4137   \n",
      "7        4401    4401    4401    4401    4401    4401    4401    4401    4401   \n",
      "8        4063    4063    4063    4063    4063    4063    4063    4063    4063   \n",
      "9        4188    4188    4188    4188    4188    4188    4188    4188    4188   \n",
      "\n",
      "       pixel9  ...  pixel774  pixel775  pixel776  pixel777  pixel778  \\\n",
      "label          ...                                                     \n",
      "0        4132  ...      4132      4132      4132      4132      4132   \n",
      "1        4684  ...      4684      4684      4684      4684      4684   \n",
      "2        4177  ...      4177      4177      4177      4177      4177   \n",
      "3        4351  ...      4351      4351      4351      4351      4351   \n",
      "4        4072  ...      4072      4072      4072      4072      4072   \n",
      "5        3795  ...      3795      3795      3795      3795      3795   \n",
      "6        4137  ...      4137      4137      4137      4137      4137   \n",
      "7        4401  ...      4401      4401      4401      4401      4401   \n",
      "8        4063  ...      4063      4063      4063      4063      4063   \n",
      "9        4188  ...      4188      4188      4188      4188      4188   \n",
      "\n",
      "       pixel779  pixel780  pixel781  pixel782  pixel783  \n",
      "label                                                    \n",
      "0          4132      4132      4132      4132      4132  \n",
      "1          4684      4684      4684      4684      4684  \n",
      "2          4177      4177      4177      4177      4177  \n",
      "3          4351      4351      4351      4351      4351  \n",
      "4          4072      4072      4072      4072      4072  \n",
      "5          3795      3795      3795      3795      3795  \n",
      "6          4137      4137      4137      4137      4137  \n",
      "7          4401      4401      4401      4401      4401  \n",
      "8          4063      4063      4063      4063      4063  \n",
      "9          4188      4188      4188      4188      4188  \n",
      "\n",
      "[10 rows x 784 columns]\n"
     ]
    }
   ],
   "source": [
    "print(labels.count())"
   ]
  },
  {
   "cell_type": "code",
   "execution_count": 44,
   "id": "bfce8eb7",
   "metadata": {},
   "outputs": [
    {
     "name": "stdout",
     "output_type": "stream",
     "text": [
      "All the unique values in Labels Column:  [1 0 4 7 3 5 8 9 2 6]\n"
     ]
    }
   ],
   "source": [
    "print(\"All the unique values in Labels Column: \", data[\"label\"].unique())"
   ]
  },
  {
   "cell_type": "code",
   "execution_count": 46,
   "id": "a93efe05",
   "metadata": {},
   "outputs": [
    {
     "name": "stdout",
     "output_type": "stream",
     "text": [
      "The count of all the unique values in Labels Column:  1    4684\n",
      "7    4401\n",
      "3    4351\n",
      "9    4188\n",
      "2    4177\n",
      "6    4137\n",
      "0    4132\n",
      "4    4072\n",
      "8    4063\n",
      "5    3795\n",
      "Name: label, dtype: int64\n"
     ]
    }
   ],
   "source": [
    "print(\"The count of all the unique values in Labels Column: \", data[\"label\"].value_counts())"
   ]
  },
  {
   "cell_type": "code",
   "execution_count": null,
   "id": "dfca3db0",
   "metadata": {},
   "outputs": [],
   "source": []
  }
 ],
 "metadata": {
  "kernelspec": {
   "display_name": "Python 3 (ipykernel)",
   "language": "python",
   "name": "python3"
  },
  "language_info": {
   "codemirror_mode": {
    "name": "ipython",
    "version": 3
   },
   "file_extension": ".py",
   "mimetype": "text/x-python",
   "name": "python",
   "nbconvert_exporter": "python",
   "pygments_lexer": "ipython3",
   "version": "3.10.9"
  }
 },
 "nbformat": 4,
 "nbformat_minor": 5
}
