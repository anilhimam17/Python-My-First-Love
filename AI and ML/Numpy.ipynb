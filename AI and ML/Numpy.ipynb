{
 "cells": [
  {
   "cell_type": "code",
   "execution_count": 1,
   "id": "068a47b9",
   "metadata": {},
   "outputs": [],
   "source": [
    "# Importing Numpy|\n",
    "import numpy as np"
   ]
  },
  {
   "cell_type": "code",
   "execution_count": 2,
   "id": "e54bf53b",
   "metadata": {},
   "outputs": [
    {
     "name": "stdout",
     "output_type": "stream",
     "text": [
      "[ 1  2  3  4  5  6  7  8  9 10]\n"
     ]
    }
   ],
   "source": [
    "# Creating arrays\n",
    "a = np.array([i for i in range(1, 11)])\n",
    "\n",
    "print(a)"
   ]
  },
  {
   "cell_type": "code",
   "execution_count": 3,
   "id": "549e31c3",
   "metadata": {},
   "outputs": [
    {
     "name": "stdout",
     "output_type": "stream",
     "text": [
      "[[1 2 3]\n",
      " [4 5 6]\n",
      " [7 8 9]]\n"
     ]
    }
   ],
   "source": [
    "# Creating 2D arrays\n",
    "b = np.array([\n",
    "    [1, 2, 3],\n",
    "    [4, 5, 6],\n",
    "    [7, 8, 9]\n",
    "])\n",
    "\n",
    "print(b)"
   ]
  },
  {
   "cell_type": "code",
   "execution_count": 4,
   "id": "5dcfd607",
   "metadata": {},
   "outputs": [
    {
     "name": "stdout",
     "output_type": "stream",
     "text": [
      "The dimensions of the above array is:  2\n",
      "The shape of the above array is:  (3, 3)\n",
      "The types of values in the above array is:  int64\n",
      "The size of each value in the above array is:  8\n",
      "The total size of the above array is:  72\n"
     ]
    }
   ],
   "source": [
    "# Checking the charecteristics of arrays\n",
    "print(\"The dimensions of the above array is: \", b.ndim)\n",
    "print(\"The shape of the above array is: \", b.shape)\n",
    "print(\"The types of values in the above array is: \", b.dtype)\n",
    "print(\"The size of each value in the above array is: \", b.itemsize)\n",
    "print(\"The total size of the above array is: \", b.nbytes)"
   ]
  },
  {
   "cell_type": "markdown",
   "id": "7bbf9dd5",
   "metadata": {},
   "source": [
    "## Accessing the arrays in different ways\n",
    "\n",
    "- The most basic way to access a numpy array is through the follow syntax.\n",
    "- Everything expands on the following syntax\n",
    "\n",
    "array[`row`, `column`]"
   ]
  },
  {
   "cell_type": "code",
   "execution_count": 5,
   "id": "dd18b291",
   "metadata": {},
   "outputs": [
    {
     "name": "stdout",
     "output_type": "stream",
     "text": [
      "[[1 2 3]\n",
      " [4 5 6]\n",
      " [7 8 9]]\n"
     ]
    }
   ],
   "source": [
    "print(b)"
   ]
  },
  {
   "cell_type": "code",
   "execution_count": 6,
   "id": "8829cdc2",
   "metadata": {},
   "outputs": [
    {
     "name": "stdout",
     "output_type": "stream",
     "text": [
      "[1 2 3]\n"
     ]
    }
   ],
   "source": [
    "# Accessing the first row from b\n",
    "print(b[0, :])"
   ]
  },
  {
   "cell_type": "code",
   "execution_count": 7,
   "id": "fe69d83c",
   "metadata": {},
   "outputs": [
    {
     "name": "stdout",
     "output_type": "stream",
     "text": [
      "[1 2 3]\n",
      "[4 5 6]\n",
      "[7 8 9]\n"
     ]
    }
   ],
   "source": [
    "# Accessing each row individually\n",
    "for i in range(3):\n",
    "    print(b[i, :])"
   ]
  },
  {
   "cell_type": "code",
   "execution_count": 8,
   "id": "dabb02a5",
   "metadata": {},
   "outputs": [
    {
     "name": "stdout",
     "output_type": "stream",
     "text": [
      "[1 4 7]\n"
     ]
    }
   ],
   "source": [
    "# Accessing the first column of b\n",
    "print(b[:, 0])"
   ]
  },
  {
   "cell_type": "code",
   "execution_count": 9,
   "id": "bcc0c1be",
   "metadata": {},
   "outputs": [
    {
     "name": "stdout",
     "output_type": "stream",
     "text": [
      "[1 4 7]\n",
      "[2 5 8]\n",
      "[3 6 9]\n"
     ]
    }
   ],
   "source": [
    "# Accessing each column individually\n",
    "for i in range(3):\n",
    "    print(b[:, i])"
   ]
  },
  {
   "cell_type": "code",
   "execution_count": 10,
   "id": "54ac5dea",
   "metadata": {},
   "outputs": [
    {
     "name": "stdout",
     "output_type": "stream",
     "text": [
      "The original matrix\n",
      "[[1 2 3]\n",
      " [4 5 6]\n",
      " [7 8 9]]\n"
     ]
    }
   ],
   "source": [
    "print(\"The original matrix\")\n",
    "print(b)"
   ]
  },
  {
   "cell_type": "markdown",
   "id": "23df598e",
   "metadata": {},
   "source": [
    "## Accessing a slice\n",
    "\n",
    "- While accessing a slice we mention row no first\n",
    "- For the specified row we use list like slicing in the value for the column\n",
    "\n",
    "array[`Row`, `Slice of the Column`]"
   ]
  },
  {
   "cell_type": "code",
   "execution_count": 11,
   "id": "9e0e7480",
   "metadata": {},
   "outputs": [
    {
     "name": "stdout",
     "output_type": "stream",
     "text": [
      "[4 5]\n"
     ]
    }
   ],
   "source": [
    "# Accessing a slice of the matrix\n",
    "print(b[1, :-1])"
   ]
  },
  {
   "cell_type": "markdown",
   "id": "2016ba4f",
   "metadata": {},
   "source": [
    "## Accessing and changing values"
   ]
  },
  {
   "cell_type": "code",
   "execution_count": 12,
   "id": "877dd053",
   "metadata": {},
   "outputs": [
    {
     "name": "stdout",
     "output_type": "stream",
     "text": [
      "5\n"
     ]
    }
   ],
   "source": [
    "# Accessing 5\n",
    "print(b[1, 1])"
   ]
  },
  {
   "cell_type": "code",
   "execution_count": 13,
   "id": "44583d60",
   "metadata": {},
   "outputs": [
    {
     "name": "stdout",
     "output_type": "stream",
     "text": [
      "[[  1   2   3]\n",
      " [  4 100   6]\n",
      " [  7   8   9]]\n"
     ]
    }
   ],
   "source": [
    "# Changing a single value\n",
    "b[1, 1] = 100\n",
    "print(b)"
   ]
  },
  {
   "cell_type": "code",
   "execution_count": 14,
   "id": "f78b5c34",
   "metadata": {},
   "outputs": [
    {
     "name": "stdout",
     "output_type": "stream",
     "text": [
      "[[  1   2   3]\n",
      " [100 100 100]\n",
      " [  7   8   9]]\n"
     ]
    }
   ],
   "source": [
    "# Changing a row\n",
    "b[1, :] = 100\n",
    "print(b)"
   ]
  },
  {
   "cell_type": "code",
   "execution_count": 15,
   "id": "f72ce0a1",
   "metadata": {},
   "outputs": [
    {
     "name": "stdout",
     "output_type": "stream",
     "text": [
      "[[1 2 3]\n",
      " [4 5 6]\n",
      " [7 8 9]]\n"
     ]
    }
   ],
   "source": [
    "# Changing a row to predefinied values\n",
    "b[1, :] = [4, 5, 6]\n",
    "print(b)"
   ]
  },
  {
   "cell_type": "code",
   "execution_count": 16,
   "id": "9fb3d46b",
   "metadata": {},
   "outputs": [
    {
     "name": "stdout",
     "output_type": "stream",
     "text": [
      "[[  1 100   3]\n",
      " [  4 100   6]\n",
      " [  7 100   9]]\n"
     ]
    }
   ],
   "source": [
    "# Changing a column\n",
    "b[:, 1] = 100\n",
    "print(b)"
   ]
  },
  {
   "cell_type": "code",
   "execution_count": 17,
   "id": "7a1c50be",
   "metadata": {},
   "outputs": [
    {
     "name": "stdout",
     "output_type": "stream",
     "text": [
      "[[1 2 3]\n",
      " [4 5 6]\n",
      " [7 8 9]]\n"
     ]
    }
   ],
   "source": [
    "# Changing a column to a predefined value\n",
    "b[:, 1] = [2, 5, 8]\n",
    "print(b)"
   ]
  },
  {
   "cell_type": "markdown",
   "id": "dc575511",
   "metadata": {},
   "source": [
    "## Initialising to predefined values will only work when the dimensions of the predefined array match the dimensions it is replacing"
   ]
  },
  {
   "attachments": {},
   "cell_type": "markdown",
   "id": "b1f6287b",
   "metadata": {},
   "source": [
    "## Initialising Special Arrays"
   ]
  },
  {
   "cell_type": "code",
   "execution_count": 18,
   "id": "3f2799b2",
   "metadata": {},
   "outputs": [
    {
     "data": {
      "text/plain": [
       "array([[0., 0., 0.],\n",
       "       [0., 0., 0.],\n",
       "       [0., 0., 0.]])"
      ]
     },
     "execution_count": 18,
     "metadata": {},
     "output_type": "execute_result"
    }
   ],
   "source": [
    "# Initialise an array of zeros\n",
    "np.zeros((3, 3))"
   ]
  },
  {
   "cell_type": "code",
   "execution_count": 19,
   "id": "ae7731d9",
   "metadata": {},
   "outputs": [
    {
     "data": {
      "text/plain": [
       "array([[1., 1., 1.],\n",
       "       [1., 1., 1.],\n",
       "       [1., 1., 1.]])"
      ]
     },
     "execution_count": 19,
     "metadata": {},
     "output_type": "execute_result"
    }
   ],
   "source": [
    "# Initialise an array of ones\n",
    "np.ones((3, 3))"
   ]
  },
  {
   "cell_type": "code",
   "execution_count": 20,
   "id": "535c9911",
   "metadata": {},
   "outputs": [
    {
     "data": {
      "text/plain": [
       "array([[100, 100, 100],\n",
       "       [100, 100, 100],\n",
       "       [100, 100, 100]])"
      ]
     },
     "execution_count": 20,
     "metadata": {},
     "output_type": "execute_result"
    }
   ],
   "source": [
    "# Initialise an array with other numbers\n",
    "np.full((3, 3), 100)"
   ]
  },
  {
   "cell_type": "code",
   "execution_count": 21,
   "id": "c33200c2",
   "metadata": {},
   "outputs": [
    {
     "data": {
      "text/plain": [
       "array([-1000, -1000])"
      ]
     },
     "execution_count": 21,
     "metadata": {},
     "output_type": "execute_result"
    }
   ],
   "source": [
    "# Initialise an array of other numbers similar to a previous array\n",
    "np.full_like(b.shape, -1000)"
   ]
  },
  {
   "cell_type": "code",
   "execution_count": 23,
   "id": "db11efd1",
   "metadata": {},
   "outputs": [
    {
     "data": {
      "text/plain": [
       "array([[0.5957258 , 0.72508457, 0.22713577, 0.19388094],\n",
       "       [0.61595456, 0.25686851, 0.00834505, 0.10397399],\n",
       "       [0.44842589, 0.0389936 , 0.87698746, 0.90878951],\n",
       "       [0.84199244, 0.08909439, 0.26757683, 0.17308926]])"
      ]
     },
     "execution_count": 23,
     "metadata": {},
     "output_type": "execute_result"
    }
   ],
   "source": [
    "# Initialise an array of random numbers between 0 and 1\n",
    "np.random.rand(4, 4)"
   ]
  },
  {
   "cell_type": "code",
   "execution_count": 26,
   "id": "fe51f933",
   "metadata": {},
   "outputs": [
    {
     "data": {
      "text/plain": [
       "array([[0.62020265, 0.00197057, 0.14524072],\n",
       "       [0.78901738, 0.42086677, 0.36031987],\n",
       "       [0.2460226 , 0.8699597 , 0.46182405]])"
      ]
     },
     "execution_count": 26,
     "metadata": {},
     "output_type": "execute_result"
    }
   ],
   "source": [
    "# Initialise an array of random numbers similar to a previous array\n",
    "np.random.random_sample(b.shape)"
   ]
  },
  {
   "cell_type": "code",
   "execution_count": 27,
   "id": "a5ad6300",
   "metadata": {},
   "outputs": [
    {
     "data": {
      "text/plain": [
       "array([[6, 6, 7, 6, 9, 5],\n",
       "       [6, 5, 8, 9, 9, 4],\n",
       "       [8, 5, 8, 9, 7, 8],\n",
       "       [7, 5, 8, 5, 8, 6],\n",
       "       [8, 6, 6, 4, 4, 8],\n",
       "       [6, 7, 9, 9, 9, 4]])"
      ]
     },
     "execution_count": 27,
     "metadata": {},
     "output_type": "execute_result"
    }
   ],
   "source": [
    "# Initialise a random array of integers\n",
    "np.random.randint(4, 10, (6, 6))"
   ]
  },
  {
   "cell_type": "code",
   "execution_count": 28,
   "id": "dce880d2",
   "metadata": {},
   "outputs": [
    {
     "data": {
      "text/plain": [
       "array([[1., 0., 0., 0., 0.],\n",
       "       [0., 1., 0., 0., 0.],\n",
       "       [0., 0., 1., 0., 0.],\n",
       "       [0., 0., 0., 1., 0.],\n",
       "       [0., 0., 0., 0., 1.]])"
      ]
     },
     "execution_count": 28,
     "metadata": {},
     "output_type": "execute_result"
    }
   ],
   "source": [
    "# Initialise an identity matrix\n",
    "np.identity(5)"
   ]
  },
  {
   "cell_type": "code",
   "execution_count": null,
   "id": "053c24fd",
   "metadata": {},
   "outputs": [],
   "source": []
  }
 ],
 "metadata": {
  "kernelspec": {
   "display_name": "base",
   "language": "python",
   "name": "python3"
  },
  "language_info": {
   "codemirror_mode": {
    "name": "ipython",
    "version": 3
   },
   "file_extension": ".py",
   "mimetype": "text/x-python",
   "name": "python",
   "nbconvert_exporter": "python",
   "pygments_lexer": "ipython3",
   "version": "3.9.13"
  },
  "vscode": {
   "interpreter": {
    "hash": "a089b94da7d87b2ea147c2f1140cc6aa2e6a314f8525e45db319b4b3c3e53f8a"
   }
  }
 },
 "nbformat": 4,
 "nbformat_minor": 5
}
