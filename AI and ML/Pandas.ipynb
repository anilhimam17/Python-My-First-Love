{
 "cells": [
  {
   "cell_type": "code",
   "execution_count": 1,
   "id": "43222a89",
   "metadata": {},
   "outputs": [],
   "source": [
    "import numpy as np\n",
    "import pandas as pd"
   ]
  },
  {
   "cell_type": "markdown",
   "id": "f686f679",
   "metadata": {},
   "source": [
    "## Creating a pandas series\n",
    "\n",
    "- pd.Series(`data`, `labels`)\n",
    "\n",
    "- A pandas series can be created in two ways\n",
    "\n",
    "1) By Passing the necessary parameters into the `pd.Series()`\n",
    "\n",
    "2) By Passing a dictionary of key - value pairs to the `pd.Series()`"
   ]
  },
  {
   "cell_type": "code",
   "execution_count": 2,
   "id": "60312eb5",
   "metadata": {},
   "outputs": [
    {
     "name": "stdout",
     "output_type": "stream",
     "text": [
      "1      USA\n",
      "2    China\n",
      "3       UK\n",
      "4    Japan\n",
      "5    India\n",
      "dtype: object\n"
     ]
    }
   ],
   "source": [
    "labels = [i for i in range(1, 6)]\n",
    "values = [\"USA\", \"China\", \"UK\", \"Japan\", \"India\"]\n",
    "\n",
    "# Creating a pandas series using two lists\n",
    "series = pd.Series(data = values, index = labels)\n",
    "print(series)"
   ]
  },
  {
   "cell_type": "code",
   "execution_count": 4,
   "id": "c96e0953",
   "metadata": {},
   "outputs": [
    {
     "name": "stdout",
     "output_type": "stream",
     "text": [
      "1 USA\n",
      "2 China\n",
      "3 UK\n",
      "4 Japan\n",
      "5 India\n"
     ]
    }
   ],
   "source": [
    "# Printing the Series using indexes\n",
    "for i in labels:\n",
    "    print(i, series[i])"
   ]
  },
  {
   "cell_type": "code",
   "execution_count": 5,
   "id": "24cf8b91",
   "metadata": {},
   "outputs": [
    {
     "name": "stdout",
     "output_type": "stream",
     "text": [
      "1      Germany\n",
      "2       France\n",
      "3        Korea\n",
      "4       Canada\n",
      "5    Australia\n",
      "dtype: object\n"
     ]
    }
   ],
   "source": [
    "# Creating a Series from a dictionary\n",
    "dic = {1 : \"Germany\", 2 : \"France\", 3 : \"Korea\", 4 : \"Canada\", 5 : \"Australia\"}\n",
    "series2 = pd.Series(dic)\n",
    "print(series2)"
   ]
  },
  {
   "cell_type": "code",
   "execution_count": 6,
   "id": "f69af575",
   "metadata": {},
   "outputs": [
    {
     "name": "stdout",
     "output_type": "stream",
     "text": [
      "1 Germany\n",
      "2 France\n",
      "3 Korea\n",
      "4 Canada\n",
      "5 Australia\n"
     ]
    }
   ],
   "source": [
    "for i in labels:\n",
    "    print(i, series2[i])"
   ]
  },
  {
   "cell_type": "code",
   "execution_count": 7,
   "id": "403bfe89",
   "metadata": {},
   "outputs": [
    {
     "name": "stdout",
     "output_type": "stream",
     "text": [
      "1        USAGermany\n",
      "2       ChinaFrance\n",
      "3           UKKorea\n",
      "4       JapanCanada\n",
      "5    IndiaAustralia\n",
      "dtype: object\n"
     ]
    }
   ],
   "source": [
    "# Arithematic on the pandas series\n",
    "print(series + series2)"
   ]
  },
  {
   "cell_type": "code",
   "execution_count": null,
   "id": "7d4d6d3b",
   "metadata": {},
   "outputs": [],
   "source": []
  }
 ],
 "metadata": {
  "kernelspec": {
   "display_name": "Python 3 (ipykernel)",
   "language": "python",
   "name": "python3"
  },
  "language_info": {
   "codemirror_mode": {
    "name": "ipython",
    "version": 3
   },
   "file_extension": ".py",
   "mimetype": "text/x-python",
   "name": "python",
   "nbconvert_exporter": "python",
   "pygments_lexer": "ipython3",
   "version": "3.10.9"
  }
 },
 "nbformat": 4,
 "nbformat_minor": 5
}
