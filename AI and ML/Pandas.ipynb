{
 "cells": [
  {
   "cell_type": "code",
   "execution_count": 1,
   "id": "43222a89",
   "metadata": {},
   "outputs": [],
   "source": [
    "import numpy as np\n",
    "import pandas as pd"
   ]
  },
  {
   "cell_type": "markdown",
   "id": "f686f679",
   "metadata": {},
   "source": [
    "## Creating a pandas series\n",
    "\n",
    "- pd.Series(`data`, `labels`)\n",
    "\n",
    "- A pandas series can be created in two ways\n",
    "\n",
    "1) By Passing the necessary parameters into the `pd.Series()`\n",
    "\n",
    "2) By Passing a dictionary of key - value pairs to the `pd.Series()`"
   ]
  },
  {
   "cell_type": "code",
   "execution_count": 2,
   "id": "60312eb5",
   "metadata": {},
   "outputs": [
    {
     "name": "stdout",
     "output_type": "stream",
     "text": [
      "1      USA\n",
      "2    China\n",
      "3       UK\n",
      "4    Japan\n",
      "5    India\n",
      "dtype: object\n"
     ]
    }
   ],
   "source": [
    "labels = [i for i in range(1, 6)]\n",
    "values = [\"USA\", \"China\", \"UK\", \"Japan\", \"India\"]\n",
    "\n",
    "# Creating a pandas series using two lists\n",
    "series = pd.Series(data = values, index = labels)\n",
    "print(series)"
   ]
  },
  {
   "cell_type": "code",
   "execution_count": 3,
   "id": "c96e0953",
   "metadata": {},
   "outputs": [
    {
     "name": "stdout",
     "output_type": "stream",
     "text": [
      "1 USA\n",
      "2 China\n",
      "3 UK\n",
      "4 Japan\n",
      "5 India\n"
     ]
    }
   ],
   "source": [
    "# Printing the Series using indexes\n",
    "for i in labels:\n",
    "    print(i, series[i])"
   ]
  },
  {
   "cell_type": "code",
   "execution_count": 4,
   "id": "24cf8b91",
   "metadata": {},
   "outputs": [
    {
     "name": "stdout",
     "output_type": "stream",
     "text": [
      "1      Germany\n",
      "2       France\n",
      "3        Korea\n",
      "4       Canada\n",
      "5    Australia\n",
      "dtype: object\n"
     ]
    }
   ],
   "source": [
    "# Creating a Series from a dictionary\n",
    "dic = {1 : \"Germany\", 2 : \"France\", 3 : \"Korea\", 4 : \"Canada\", 5 : \"Australia\"}\n",
    "series2 = pd.Series(dic)\n",
    "print(series2)"
   ]
  },
  {
   "cell_type": "code",
   "execution_count": 5,
   "id": "f69af575",
   "metadata": {},
   "outputs": [
    {
     "name": "stdout",
     "output_type": "stream",
     "text": [
      "1 Germany\n",
      "2 France\n",
      "3 Korea\n",
      "4 Canada\n",
      "5 Australia\n"
     ]
    }
   ],
   "source": [
    "for i in labels:\n",
    "    print(i, series2[i])"
   ]
  },
  {
   "cell_type": "code",
   "execution_count": 6,
   "id": "403bfe89",
   "metadata": {},
   "outputs": [
    {
     "name": "stdout",
     "output_type": "stream",
     "text": [
      "1        USAGermany\n",
      "2       ChinaFrance\n",
      "3           UKKorea\n",
      "4       JapanCanada\n",
      "5    IndiaAustralia\n",
      "dtype: object\n"
     ]
    }
   ],
   "source": [
    "# Arithematic on the pandas series\n",
    "print(series + series2)"
   ]
  },
  {
   "cell_type": "markdown",
   "id": "89a21dc0",
   "metadata": {},
   "source": [
    "## Working with Pandas Dataframes\n",
    "\n",
    "- A 2D datastructure which carries both the row and column wise information\n",
    "\n",
    "### Creating a Dataframe\n",
    "- pd.DataFrame(`data`, `rows`, `columns`)\n",
    "\n",
    "### Accessing a column from a dataframe\n",
    "- df[`column`]\n",
    "\n",
    "### Accessing a subset of the dataframe\n",
    "- df[[`Columns`]]\n",
    "\n",
    "### Deleting a column\n",
    "- df.drop(`column`, `axis`, `inplace`)"
   ]
  },
  {
   "cell_type": "code",
   "execution_count": 9,
   "id": "75900d6c",
   "metadata": {},
   "outputs": [
    {
     "name": "stdout",
     "output_type": "stream",
     "text": [
      "          A         B         C         D         E\n",
      "0  0.391739  0.972389 -0.223854 -0.861428 -0.498910\n",
      "1  0.439325 -1.354051  1.702442  1.380913 -0.461783\n",
      "2 -0.465288 -0.121611  0.837312 -0.423629  1.515762\n",
      "3  1.066162 -2.217327  0.367553 -0.760112 -1.174437\n",
      "4  1.517450  1.591264 -2.612814 -0.371523 -0.207952\n"
     ]
    }
   ],
   "source": [
    "# Data to be stored in the dataframe\n",
    "data = np.random.randn(5, 5)\n",
    "\n",
    "# Creating the dataframe\n",
    "df = pd.DataFrame(data, index = [i for i in range(5)], columns = [\"A\", \"B\", \"C\", \"D\", \"E\"])\n",
    "print(df)"
   ]
  },
  {
   "cell_type": "code",
   "execution_count": 10,
   "id": "3801c288",
   "metadata": {},
   "outputs": [
    {
     "name": "stdout",
     "output_type": "stream",
     "text": [
      "0    0.391739\n",
      "1    0.439325\n",
      "2   -0.465288\n",
      "3    1.066162\n",
      "4    1.517450\n",
      "Name: A, dtype: float64\n"
     ]
    }
   ],
   "source": [
    "# Viewing a column of the dataframe\n",
    "print(df[\"A\"])"
   ]
  },
  {
   "cell_type": "code",
   "execution_count": 11,
   "id": "9f88fa16",
   "metadata": {},
   "outputs": [
    {
     "name": "stdout",
     "output_type": "stream",
     "text": [
      "          A         C         E\n",
      "0  0.391739 -0.223854 -0.498910\n",
      "1  0.439325  1.702442 -0.461783\n",
      "2 -0.465288  0.837312  1.515762\n",
      "3  1.066162  0.367553 -1.174437\n",
      "4  1.517450 -2.612814 -0.207952\n"
     ]
    }
   ],
   "source": [
    "# Viewing a subset of the dataframe\n",
    "print(df[[\"A\", \"C\", \"E\"]])"
   ]
  },
  {
   "cell_type": "code",
   "execution_count": 14,
   "id": "027bacb7",
   "metadata": {},
   "outputs": [
    {
     "name": "stdout",
     "output_type": "stream",
     "text": [
      "Before Dropping E\n",
      "          A         B         C         D         E\n",
      "0  0.391739  0.972389 -0.223854 -0.861428 -0.498910\n",
      "1  0.439325 -1.354051  1.702442  1.380913 -0.461783\n",
      "2 -0.465288 -0.121611  0.837312 -0.423629  1.515762\n",
      "3  1.066162 -2.217327  0.367553 -0.760112 -1.174437\n",
      "4  1.517450  1.591264 -2.612814 -0.371523 -0.207952\n",
      "\n",
      "\n",
      "After Dropping E - No Change as Inplace = False\n",
      "          A         B         C         D         E\n",
      "0  0.391739  0.972389 -0.223854 -0.861428 -0.498910\n",
      "1  0.439325 -1.354051  1.702442  1.380913 -0.461783\n",
      "2 -0.465288 -0.121611  0.837312 -0.423629  1.515762\n",
      "3  1.066162 -2.217327  0.367553 -0.760112 -1.174437\n",
      "4  1.517450  1.591264 -2.612814 -0.371523 -0.207952\n"
     ]
    }
   ],
   "source": [
    "# Dropping a column from the dataframe\n",
    "print(\"Before Dropping E\")\n",
    "print(df)\n",
    "\n",
    "df.drop(\"E\", axis = 1)\n",
    "\n",
    "print(\"\\n\\nAfter Dropping E - No Change as Inplace = False\")\n",
    "print(df)"
   ]
  },
  {
   "cell_type": "code",
   "execution_count": 15,
   "id": "5dc8235f",
   "metadata": {},
   "outputs": [
    {
     "name": "stdout",
     "output_type": "stream",
     "text": [
      "Before Dropping E\n",
      "          A         B         C         D         E\n",
      "0  0.391739  0.972389 -0.223854 -0.861428 -0.498910\n",
      "1  0.439325 -1.354051  1.702442  1.380913 -0.461783\n",
      "2 -0.465288 -0.121611  0.837312 -0.423629  1.515762\n",
      "3  1.066162 -2.217327  0.367553 -0.760112 -1.174437\n",
      "4  1.517450  1.591264 -2.612814 -0.371523 -0.207952\n",
      "\n",
      "\n",
      "After Dropping E - Permanent Change as Inplace = True\n",
      "          A         B         C         D\n",
      "0  0.391739  0.972389 -0.223854 -0.861428\n",
      "1  0.439325 -1.354051  1.702442  1.380913\n",
      "2 -0.465288 -0.121611  0.837312 -0.423629\n",
      "3  1.066162 -2.217327  0.367553 -0.760112\n",
      "4  1.517450  1.591264 -2.612814 -0.371523\n"
     ]
    }
   ],
   "source": [
    "# Dropping a column from the dataframe\n",
    "print(\"Before Dropping E\")\n",
    "print(df)\n",
    "\n",
    "df.drop(\"E\", axis = 1, inplace = True)\n",
    "\n",
    "print(\"\\n\\nAfter Dropping E - Permanent Change as Inplace = True\")\n",
    "print(df)"
   ]
  },
  {
   "cell_type": "code",
   "execution_count": null,
   "id": "60674240",
   "metadata": {},
   "outputs": [],
   "source": []
  }
 ],
 "metadata": {
  "kernelspec": {
   "display_name": "Python 3 (ipykernel)",
   "language": "python",
   "name": "python3"
  },
  "language_info": {
   "codemirror_mode": {
    "name": "ipython",
    "version": 3
   },
   "file_extension": ".py",
   "mimetype": "text/x-python",
   "name": "python",
   "nbconvert_exporter": "python",
   "pygments_lexer": "ipython3",
   "version": "3.10.9"
  }
 },
 "nbformat": 4,
 "nbformat_minor": 5
}
