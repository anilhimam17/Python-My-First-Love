{
 "cells": [
  {
   "cell_type": "code",
   "execution_count": 21,
   "id": "8f44c483",
   "metadata": {},
   "outputs": [],
   "source": [
    "import tensorflow as tf"
   ]
  },
  {
   "cell_type": "code",
   "execution_count": 22,
   "id": "42f5435a",
   "metadata": {},
   "outputs": [],
   "source": [
    "mnist = tf.keras.datasets.fashion_mnist\n",
    "(X_train, Y_train), (X_test, Y_test) = mnist.load_data()"
   ]
  },
  {
   "cell_type": "code",
   "execution_count": 23,
   "id": "45368a49",
   "metadata": {},
   "outputs": [],
   "source": [
    "X_train = X_train / 255\n",
    "X_test = X_test / 255"
   ]
  },
  {
   "cell_type": "code",
   "execution_count": 24,
   "id": "11edee16",
   "metadata": {},
   "outputs": [],
   "source": [
    "model = tf.keras.Sequential([\n",
    "    tf.keras.layers.Conv2D(64, (3, 3), activation = \"relu\", input_shape = (28, 28, 1)),\n",
    "    tf.keras.layers.MaxPool2D(2, 2),\n",
    "    \n",
    "    tf.keras.layers.Conv2D(64, (3, 3), activation = \"relu\"),\n",
    "    tf.keras.layers.MaxPool2D(2, 2),\n",
    "    \n",
    "    tf.keras.layers.Flatten(),\n",
    "    tf.keras.layers.Dense(256, activation = \"relu\"),\n",
    "    tf.keras.layers.Dense(10, activation = \"softmax\")\n",
    "])\n",
    "\n",
    "model.compile(loss = \"sparse_categorical_crossentropy\", optimizer = \"adam\", metrics = \"accuracy\")"
   ]
  },
  {
   "cell_type": "code",
   "execution_count": 25,
   "id": "406cef2b",
   "metadata": {},
   "outputs": [],
   "source": [
    "class myCallback(tf.keras.callbacks.Callback):\n",
    "    \n",
    "    def on_epoch_end(self, epochs, logs = {}):\n",
    "        \n",
    "        if logs[\"accuracy\"] > 0.98:\n",
    "            self.model.stop_training = True\n",
    "            \n",
    "callbacks = myCallback()"
   ]
  },
  {
   "cell_type": "code",
   "execution_count": 26,
   "id": "fdb95706",
   "metadata": {},
   "outputs": [
    {
     "name": "stdout",
     "output_type": "stream",
     "text": [
      "Epoch 1/50\n",
      "1875/1875 [==============================] - 67s 36ms/step - loss: 0.4290 - accuracy: 0.8440\n",
      "Epoch 2/50\n",
      "1875/1875 [==============================] - 71s 38ms/step - loss: 0.2887 - accuracy: 0.8939\n",
      "Epoch 3/50\n",
      "1875/1875 [==============================] - 64s 34ms/step - loss: 0.2388 - accuracy: 0.9107\n",
      "Epoch 4/50\n",
      "1875/1875 [==============================] - 66s 35ms/step - loss: 0.2047 - accuracy: 0.9231\n",
      "Epoch 5/50\n",
      "1875/1875 [==============================] - 71s 38ms/step - loss: 0.1767 - accuracy: 0.9330\n",
      "Epoch 6/50\n",
      "1875/1875 [==============================] - 74s 39ms/step - loss: 0.1537 - accuracy: 0.9412\n",
      "Epoch 7/50\n",
      "1875/1875 [==============================] - 76s 41ms/step - loss: 0.1304 - accuracy: 0.9499\n",
      "Epoch 8/50\n",
      "1875/1875 [==============================] - 78s 41ms/step - loss: 0.1131 - accuracy: 0.9569\n",
      "Epoch 9/50\n",
      "1875/1875 [==============================] - 76s 41ms/step - loss: 0.0981 - accuracy: 0.9626\n",
      "Epoch 10/50\n",
      "1875/1875 [==============================] - 79s 42ms/step - loss: 0.0832 - accuracy: 0.9679\n",
      "Epoch 11/50\n",
      "1875/1875 [==============================] - 84s 45ms/step - loss: 0.0714 - accuracy: 0.9735\n",
      "Epoch 12/50\n",
      "1875/1875 [==============================] - 83s 44ms/step - loss: 0.0618 - accuracy: 0.9766\n",
      "Epoch 13/50\n",
      "1875/1875 [==============================] - 82s 44ms/step - loss: 0.0542 - accuracy: 0.9794\n",
      "Epoch 14/50\n",
      "1875/1875 [==============================] - 80s 43ms/step - loss: 0.0499 - accuracy: 0.9813\n"
     ]
    },
    {
     "data": {
      "text/plain": [
       "<keras.callbacks.History at 0x7fbe3508ed60>"
      ]
     },
     "execution_count": 26,
     "metadata": {},
     "output_type": "execute_result"
    }
   ],
   "source": [
    "model.fit(X_train, Y_train, epochs = 50, callbacks = [callbacks])"
   ]
  },
  {
   "cell_type": "code",
   "execution_count": 27,
   "id": "c382e03a",
   "metadata": {},
   "outputs": [
    {
     "name": "stdout",
     "output_type": "stream",
     "text": [
      "313/313 [==============================] - 3s 10ms/step - loss: 0.4199 - accuracy: 0.9152\n"
     ]
    },
    {
     "data": {
      "text/plain": [
       "[0.4199308454990387, 0.9151999950408936]"
      ]
     },
     "execution_count": 27,
     "metadata": {},
     "output_type": "execute_result"
    }
   ],
   "source": [
    "model.evaluate(X_test, Y_test)"
   ]
  },
  {
   "cell_type": "code",
   "execution_count": null,
   "id": "4de1d2d6",
   "metadata": {},
   "outputs": [],
   "source": []
  }
 ],
 "metadata": {
  "kernelspec": {
   "display_name": "Python 3 (ipykernel)",
   "language": "python",
   "name": "python3"
  },
  "language_info": {
   "codemirror_mode": {
    "name": "ipython",
    "version": 3
   },
   "file_extension": ".py",
   "mimetype": "text/x-python",
   "name": "python",
   "nbconvert_exporter": "python",
   "pygments_lexer": "ipython3",
   "version": "3.9.12"
  }
 },
 "nbformat": 4,
 "nbformat_minor": 5
}
