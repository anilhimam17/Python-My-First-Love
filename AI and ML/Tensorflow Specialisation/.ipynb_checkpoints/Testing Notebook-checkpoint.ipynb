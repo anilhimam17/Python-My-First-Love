{
 "cells": [
  {
   "cell_type": "code",
   "execution_count": 15,
   "id": "abc581fb",
   "metadata": {},
   "outputs": [],
   "source": [
    "import tensorflow as tf"
   ]
  },
  {
   "cell_type": "code",
   "execution_count": 16,
   "id": "5402876c",
   "metadata": {},
   "outputs": [],
   "source": [
    "mnist = tf.keras.datasets.fashion_mnist\n",
    "(x_train, y_train), (x_test, y_test) = mnist.load_data()"
   ]
  },
  {
   "cell_type": "code",
   "execution_count": 17,
   "id": "1523de42",
   "metadata": {},
   "outputs": [],
   "source": [
    "x_train = x_train / 255\n",
    "x_test = x_test / 255"
   ]
  },
  {
   "cell_type": "code",
   "execution_count": 18,
   "id": "2f40e485",
   "metadata": {},
   "outputs": [],
   "source": [
    "model = tf.keras.Sequential([\n",
    "    tf.keras.layers.Conv2D(64, (3, 3), activation = \"relu\", input_shape = (28, 28, 1)),\n",
    "    tf.keras.layers.MaxPool2D(2, 2),\n",
    "    \n",
    "    tf.keras.layers.Conv2D(64, (3, 3), activation = \"relu\"),\n",
    "    tf.keras.layers.MaxPool2D(2, 2),\n",
    "    \n",
    "    tf.keras.layers.Flatten(),\n",
    "    tf.keras.layers.Dense(128, activation = \"relu\"),\n",
    "    tf.keras.layers.Dense(10, activation = \"softmax\")\n",
    "])"
   ]
  },
  {
   "cell_type": "code",
   "execution_count": 19,
   "id": "bee52f7b",
   "metadata": {},
   "outputs": [],
   "source": [
    "model.compile(optimizer = \"adam\", loss = \"sparse_categorical_crossentropy\", metrics = \"accuracy\")"
   ]
  },
  {
   "cell_type": "code",
   "execution_count": 20,
   "id": "9a26cf9e",
   "metadata": {},
   "outputs": [],
   "source": [
    "class myCallback(tf.keras.callbacks.Callback):\n",
    "    \n",
    "    def on_epoch_end(self, epoch, logs = {}):\n",
    "        \n",
    "        if logs[\"accuracy\"] > 0.95:\n",
    "            print(\"\\n\\nThe training process has terminated as the required goals have been achieved\")\n",
    "            self.model.stop_training = True\n",
    "\n",
    "callbacks = myCallback()"
   ]
  },
  {
   "cell_type": "code",
   "execution_count": 21,
   "id": "03fce4d5",
   "metadata": {},
   "outputs": [
    {
     "name": "stdout",
     "output_type": "stream",
     "text": [
      "Epoch 1/50\n",
      "1875/1875 [==============================] - 58s 31ms/step - loss: 0.4468 - accuracy: 0.8384\n",
      "Epoch 2/50\n",
      "1875/1875 [==============================] - 57s 31ms/step - loss: 0.3004 - accuracy: 0.8905\n",
      "Epoch 3/50\n",
      "1875/1875 [==============================] - 57s 31ms/step - loss: 0.2574 - accuracy: 0.9056\n",
      "Epoch 4/50\n",
      "1875/1875 [==============================] - 59s 31ms/step - loss: 0.2236 - accuracy: 0.9175\n",
      "Epoch 5/50\n",
      "1875/1875 [==============================] - 58s 31ms/step - loss: 0.1978 - accuracy: 0.9262\n",
      "Epoch 6/50\n",
      "1875/1875 [==============================] - 59s 31ms/step - loss: 0.1752 - accuracy: 0.9340\n",
      "Epoch 7/50\n",
      "1875/1875 [==============================] - 60s 32ms/step - loss: 0.1566 - accuracy: 0.9409\n",
      "Epoch 8/50\n",
      "1875/1875 [==============================] - 58s 31ms/step - loss: 0.1395 - accuracy: 0.9473\n",
      "Epoch 9/50\n",
      "1875/1875 [==============================] - ETA: 0s - loss: 0.1233 - accuracy: 0.9536\n",
      "\n",
      "The training process has terminated as the required goals have been achieved\n",
      "1875/1875 [==============================] - 63s 33ms/step - loss: 0.1233 - accuracy: 0.9536\n"
     ]
    },
    {
     "data": {
      "text/plain": [
       "<keras.callbacks.History at 0x7ffc61a55df0>"
      ]
     },
     "execution_count": 21,
     "metadata": {},
     "output_type": "execute_result"
    }
   ],
   "source": [
    "model.fit(x_train, y_train, epochs = 50, callbacks = [callbacks])"
   ]
  },
  {
   "cell_type": "code",
   "execution_count": 22,
   "id": "5830b20b",
   "metadata": {},
   "outputs": [
    {
     "name": "stdout",
     "output_type": "stream",
     "text": [
      "313/313 [==============================] - 4s 11ms/step - loss: 0.2650 - accuracy: 0.9144\n"
     ]
    },
    {
     "data": {
      "text/plain": [
       "[0.26504194736480713, 0.9143999814987183]"
      ]
     },
     "execution_count": 22,
     "metadata": {},
     "output_type": "execute_result"
    }
   ],
   "source": [
    "model.evaluate(x_test, y_test)"
   ]
  },
  {
   "cell_type": "code",
   "execution_count": null,
   "id": "10ed29b1",
   "metadata": {},
   "outputs": [],
   "source": []
  }
 ],
 "metadata": {
  "kernelspec": {
   "display_name": "Python 3 (ipykernel)",
   "language": "python",
   "name": "python3"
  },
  "language_info": {
   "codemirror_mode": {
    "name": "ipython",
    "version": 3
   },
   "file_extension": ".py",
   "mimetype": "text/x-python",
   "name": "python",
   "nbconvert_exporter": "python",
   "pygments_lexer": "ipython3",
   "version": "3.9.12"
  }
 },
 "nbformat": 4,
 "nbformat_minor": 5
}
