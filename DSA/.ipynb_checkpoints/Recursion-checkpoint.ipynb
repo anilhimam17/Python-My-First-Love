{
 "cells": [
  {
   "cell_type": "markdown",
   "id": "195f24d9",
   "metadata": {},
   "source": [
    "## Working with Recursion"
   ]
  },
  {
   "cell_type": "markdown",
   "id": "0f5c0da7",
   "metadata": {},
   "source": [
    "### Working with assert statement\n",
    "\n",
    "syntax: assert `condition`, `output`\n",
    "\n",
    "- The assert statement has the following cases\n",
    "    * If condition true then no error raised\n",
    "    * Else output statement is raised as error"
   ]
  },
  {
   "cell_type": "markdown",
   "id": "4e1b8d91",
   "metadata": {},
   "source": [
    "## Factorial"
   ]
  },
  {
   "cell_type": "code",
   "execution_count": 11,
   "id": "cc5e94b1",
   "metadata": {},
   "outputs": [
    {
     "name": "stdout",
     "output_type": "stream",
     "text": [
      "Enter Number: 10\n",
      "3628800\n"
     ]
    }
   ],
   "source": [
    "def factorial(n):\n",
    "    # Check Condition\n",
    "    # assert n < 0 and int(n) == n, \"The given number isnt suitable for factorial\"\n",
    "    \n",
    "    # Base Case\n",
    "    if n == 1:\n",
    "        return 1\n",
    "    \n",
    "    # Recursive Case\n",
    "    return n * factorial(n - 1)\n",
    "\n",
    "inp = int(input(\"Enter Number: \"))\n",
    "print(factorial(inp))"
   ]
  },
  {
   "cell_type": "markdown",
   "id": "5ab675cb",
   "metadata": {},
   "source": [
    "## Fibonacci"
   ]
  },
  {
   "cell_type": "code",
   "execution_count": 16,
   "id": "bacc3084",
   "metadata": {},
   "outputs": [
    {
     "name": "stdout",
     "output_type": "stream",
     "text": [
      "Enter number for find fibonacci series: 10\n",
      "0 1 1 2 3 5 8 13 21 34 "
     ]
    }
   ],
   "source": [
    "def fibo(n):\n",
    "    # Check Condition\n",
    "    assert n >= 0 and int(n) == n, \"The given number is invalid for Fibonacci\"\n",
    "    \n",
    "    # Base Case\n",
    "    if n in [0, 1]:\n",
    "        return n\n",
    "    \n",
    "    # Recursive Case\n",
    "    return fibo(n - 1) + fibo(n - 2)\n",
    "\n",
    "inp = int(input(\"Enter number for find fibonacci series: \"))\n",
    "for i in range(inp):\n",
    "    print(fibo(i), end = \" \")"
   ]
  },
  {
   "cell_type": "markdown",
   "id": "c7675c99",
   "metadata": {},
   "source": [
    "## Sum of digits of a positive number"
   ]
  },
  {
   "cell_type": "code",
   "execution_count": 22,
   "id": "601a1c8b",
   "metadata": {},
   "outputs": [
    {
     "name": "stdout",
     "output_type": "stream",
     "text": [
      "Enter number to find sum of digits: 987\n",
      "24\n"
     ]
    }
   ],
   "source": [
    "def sum_of_digits(n):\n",
    "    # Check Condition\n",
    "    assert n > 0 or int(n) == n, \"Please enter a positive integer to find sum of digits\"\n",
    "    \n",
    "    # Base Case\n",
    "    if n <= 0:\n",
    "        return n\n",
    "    \n",
    "    # Recursive Case\n",
    "    return n % 10 + sum_of_digits(int(n / 10))\n",
    "\n",
    "inp = int(input(\"Enter number to find sum of digits: \"))\n",
    "print(sum_of_digits(inp))"
   ]
  },
  {
   "cell_type": "markdown",
   "id": "3d05bfa5",
   "metadata": {},
   "source": [
    "## Power of a number"
   ]
  },
  {
   "cell_type": "code",
   "execution_count": 29,
   "id": "c89e527f",
   "metadata": {},
   "outputs": [
    {
     "name": "stdout",
     "output_type": "stream",
     "text": [
      "Enter the value of m: 2\n",
      "Enter the value of n: -3\n",
      "0.125\n"
     ]
    }
   ],
   "source": [
    "def power(m, n):\n",
    "    # Check Condition\n",
    "    assert int(n) == n, \"Please enter postive values to find powers\"\n",
    "    \n",
    "    # Base Case\n",
    "    if n == 0:\n",
    "        return 1\n",
    "    \n",
    "    # Recursive Case for Negative Exp\n",
    "    elif n < 0:\n",
    "        return (1 / m) * power(m, n + 1)\n",
    "    \n",
    "    # Recursive Case for Positive Exp\n",
    "    return m * power(m, n - 1)\n",
    "\n",
    "m = int(input(\"Enter the value of m: \"))\n",
    "n = int(input(\"Enter the value of n: \"))\n",
    "print(power(m, n))"
   ]
  },
  {
   "cell_type": "markdown",
   "id": "f38c5a56",
   "metadata": {},
   "source": [
    "## GCD"
   ]
  },
  {
   "cell_type": "code",
   "execution_count": 32,
   "id": "04a198a6",
   "metadata": {},
   "outputs": [
    {
     "name": "stdout",
     "output_type": "stream",
     "text": [
      "6\n"
     ]
    }
   ],
   "source": [
    "def gcd(a, b):\n",
    "    # Check Condition\n",
    "    assert a >= 0 and b >= 0, \"Please enter positive integers to find GCD\"\n",
    "    \n",
    "    # Base Case\n",
    "    if b == 0:\n",
    "        return a\n",
    "    \n",
    "    # Recursive Case\n",
    "    return gcd(b, a % b)\n",
    "\n",
    "print(gcd(48, 18))"
   ]
  },
  {
   "cell_type": "markdown",
   "id": "3b395f65",
   "metadata": {},
   "source": [
    "## Decimal to Binary"
   ]
  },
  {
   "cell_type": "code",
   "execution_count": 37,
   "id": "cf8e5578",
   "metadata": {},
   "outputs": [
    {
     "name": "stdout",
     "output_type": "stream",
     "text": [
      "1010\n"
     ]
    }
   ],
   "source": [
    "def to_binary(n):\n",
    "    # Check Condition\n",
    "    assert n == int(n), \"Please enter an integer to find binary conversion\"\n",
    "    \n",
    "    '''\n",
    "    # Base Case\n",
    "    if n == 0:\n",
    "        return n\n",
    "        \n",
    "    # Recursive Case using math\n",
    "    return (n % 2) + 10 * to_binary(int(n / 2))\n",
    "    '''\n",
    "    \n",
    "    # Base Case for string formatting\n",
    "    if n in [0, 1]:\n",
    "        return f\"{n}\"\n",
    "    \n",
    "    # Recursive Case using string formatting\n",
    "    return to_binary(int(n / 2)) + f\"{n % 2}\"\n",
    "\n",
    "print(to_binary(10))"
   ]
  },
  {
   "cell_type": "code",
   "execution_count": null,
   "id": "29168e5c",
   "metadata": {},
   "outputs": [],
   "source": []
  }
 ],
 "metadata": {
  "kernelspec": {
   "display_name": "Python 3 (ipykernel)",
   "language": "python",
   "name": "python3"
  },
  "language_info": {
   "codemirror_mode": {
    "name": "ipython",
    "version": 3
   },
   "file_extension": ".py",
   "mimetype": "text/x-python",
   "name": "python",
   "nbconvert_exporter": "python",
   "pygments_lexer": "ipython3",
   "version": "3.9.13"
  }
 },
 "nbformat": 4,
 "nbformat_minor": 5
}
