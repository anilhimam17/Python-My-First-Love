{
 "cells": [
  {
   "cell_type": "markdown",
   "id": "99ca1e3c",
   "metadata": {},
   "source": [
    "# Working with arrays"
   ]
  },
  {
   "cell_type": "code",
   "execution_count": 1,
   "id": "18a886b7",
   "metadata": {},
   "outputs": [],
   "source": [
    "from array import *\n",
    "import matplotlib.pyplot as plt\n",
    "import math"
   ]
  },
  {
   "cell_type": "markdown",
   "id": "cf69c171",
   "metadata": {},
   "source": [
    "## Creating an array\n",
    "\n",
    "arr = array(`Datatype`, `Initial Values`)"
   ]
  },
  {
   "cell_type": "code",
   "execution_count": 2,
   "id": "67ec6c20",
   "metadata": {},
   "outputs": [
    {
     "name": "stdout",
     "output_type": "stream",
     "text": [
      "array('i', [1, 2, 3, 4, 5, 6, 7, 8, 9, 10])\n",
      "array('d', [0.8414709848078965, 0.9092974268256817, 0.1411200080598672, -0.7568024953079282, -0.9589242746631385, -0.27941549819892586, 0.6569865987187891, 0.9893582466233818, 0.4121184852417566, -0.5440211108893699])\n"
     ]
    }
   ],
   "source": [
    "# Creating two arrays\n",
    "arr1 = array('i', [i for i in range(1, 11)])\n",
    "arr2 = array('d', [math.sin(i) for i in range(1, 11)])\n",
    "\n",
    "print(arr1)\n",
    "print(arr2)"
   ]
  },
  {
   "cell_type": "markdown",
   "id": "71ef250a",
   "metadata": {},
   "source": [
    "## Viewing the graph\n",
    "\n",
    "`Important`\n",
    "- Matplotlib supports any kind of arrays while plotting a graph\n",
    "- It supports numpy arrays, array module and python lists"
   ]
  },
  {
   "cell_type": "code",
   "execution_count": 3,
   "id": "65f3f378",
   "metadata": {},
   "outputs": [
    {
     "data": {
      "image/png": "[encoded data removed]",
      "text/plain": [
       "<Figure size 640x480 with 1 Axes>"
      ]
     },
     "metadata": {},
     "output_type": "display_data"
    }
   ],
   "source": [
    "plt.plot(arr1, arr2)\n",
    "plt.show()"
   ]
  },
  {
   "cell_type": "markdown",
   "id": "c0efd3bd",
   "metadata": {},
   "source": [
    "## Insertion into Arrays\n",
    "\n",
    "arr.insert(`Position`, `Value`)"
   ]
  },
  {
   "cell_type": "code",
   "execution_count": 4,
   "id": "afa2d351",
   "metadata": {},
   "outputs": [
    {
     "name": "stdout",
     "output_type": "stream",
     "text": [
      "Enter Position: 4\n",
      "Enter Value: -100\n",
      "array('i', [1, 2, 3, 4, -100, 5, 6, 7, 8, 9])\n",
      "10\n"
     ]
    }
   ],
   "source": [
    "arr3 = array(\"i\", [i for i in range(1, 10)])\n",
    "\n",
    "# Taking input for inserting element\n",
    "pos = int(input(\"Enter Position: \"))\n",
    "val = int(input(\"Enter Value: \"))\n",
    "\n",
    "arr3.insert(pos, val)\n",
    "print(arr3)\n",
    "print(len(arr3))"
   ]
  },
  {
   "cell_type": "markdown",
   "id": "ba2e8595",
   "metadata": {},
   "source": [
    "## Traversing an Array"
   ]
  },
  {
   "cell_type": "code",
   "execution_count": 5,
   "id": "fca35701",
   "metadata": {},
   "outputs": [
    {
     "name": "stdout",
     "output_type": "stream",
     "text": [
      "0.84\n",
      "0.91\n",
      "0.14\n",
      "-0.76\n",
      "-0.96\n",
      "-0.28\n",
      "0.66\n",
      "0.99\n",
      "0.41\n",
      "-0.54\n"
     ]
    }
   ],
   "source": [
    "for i in arr2:\n",
    "    print(round(i, 2))"
   ]
  },
  {
   "cell_type": "markdown",
   "id": "4131b9e5",
   "metadata": {},
   "source": [
    "## Searching an Array"
   ]
  },
  {
   "cell_type": "code",
   "execution_count": 6,
   "id": "d732c33a",
   "metadata": {},
   "outputs": [
    {
     "name": "stdout",
     "output_type": "stream",
     "text": [
      "Enter element to be searched: -100\n",
      "The element was found\n"
     ]
    }
   ],
   "source": [
    "inp = int(input(\"Enter element to be searched: \"))\n",
    "\n",
    "# Searching for the element\n",
    "for i in arr3:\n",
    "    if i == inp:\n",
    "        print(\"The element was found\")\n",
    "        break\n",
    "        \n",
    "else:\n",
    "    print(\"The element was not found\")"
   ]
  },
  {
   "cell_type": "markdown",
   "id": "f4797237",
   "metadata": {},
   "source": [
    "## Deleting elements from an array\n",
    "\n",
    "arr.remove(`Value`)"
   ]
  },
  {
   "cell_type": "code",
   "execution_count": 7,
   "id": "e90344f1",
   "metadata": {},
   "outputs": [
    {
     "name": "stdout",
     "output_type": "stream",
     "text": [
      "array('i', [1, 2, 3, 4, -100, 5, 6, 7, 8, 9])\n",
      "array('i', [1, 2, 3, 4, 5, 6, 7, 8, 9])\n"
     ]
    }
   ],
   "source": [
    "# Array Before Deletion\n",
    "print(arr3)\n",
    "\n",
    "# Removing the element from array\n",
    "arr3.remove(-100)\n",
    "\n",
    "# Array after deletion\n",
    "print(arr3)"
   ]
  },
  {
   "cell_type": "markdown",
   "id": "fcad9ca5",
   "metadata": {},
   "source": [
    "## Working with 2D arrays"
   ]
  },
  {
   "cell_type": "code",
   "execution_count": 8,
   "id": "dc297a66",
   "metadata": {},
   "outputs": [
    {
     "name": "stdout",
     "output_type": "stream",
     "text": [
      "1 2 3 4 \n",
      "5 6 7 8 \n"
     ]
    }
   ],
   "source": [
    "ls = [\n",
    "    [1, 2, 3, 4], \n",
    "    [5, 6, 7, 8]\n",
    "]\n",
    "\n",
    "for i in ls:\n",
    "    for j in i:\n",
    "        print(j, end = \" \")\n",
    "    print()"
   ]
  },
  {
   "cell_type": "markdown",
   "id": "be3e9a23",
   "metadata": {},
   "source": [
    "## Insertion into a 2D Array\n",
    "\n",
    "- `Array Name` = np.insert(`Array Name`, `Index`, `Value`, `Axis: Type of Insertion`)\n",
    "- Axis = 0: Insertion takes place row wise\n",
    "- Axis = 1: Insertion takes place column wise"
   ]
  },
  {
   "cell_type": "code",
   "execution_count": 9,
   "id": "4d198160",
   "metadata": {},
   "outputs": [
    {
     "name": "stdout",
     "output_type": "stream",
     "text": [
      "Before Insertion:  [[1 2 3 4]\n",
      " [5 6 7 8]]\n",
      "After Insertion:  [[0 1 2 3 4]\n",
      " [0 5 6 7 8]]\n",
      "After Insertion:  [[ 0  1  2  3  4]\n",
      " [ 0  5  6  7  8]\n",
      " [ 0  9 10 11 12]]\n"
     ]
    }
   ],
   "source": [
    "import numpy as np\n",
    "\n",
    "ls = [\n",
    "    [1, 2, 3, 4], \n",
    "    [5, 6, 7, 8]\n",
    "]\n",
    "\n",
    "ls = np.array(ls)\n",
    "print(\"Before Insertion: \", ls)\n",
    "\n",
    "# Inserting the values into the array column wise\n",
    "ls = np.insert(ls, 0, [[0, 0]], axis = 1)\n",
    "\n",
    "print(\"After Insertion: \", ls)\n",
    "\n",
    "# Inserting the values into the array row wise\n",
    "ls = np.insert(ls, 2, [[0, 9, 10, 11, 12]], axis = 0)\n",
    "\n",
    "print(\"After Insertion: \", ls)"
   ]
  },
  {
   "cell_type": "markdown",
   "id": "160c50d0",
   "metadata": {},
   "source": [
    "## To insert elements specifically at the end of the array\n",
    "\n",
    "- `Array Name` = np.append(`Array Name`, `Value`, `Axis: Type of Insertion`)\n",
    "- Where axis parameter retains its original meaning"
   ]
  },
  {
   "cell_type": "code",
   "execution_count": 10,
   "id": "6aaf1f79",
   "metadata": {},
   "outputs": [
    {
     "name": "stdout",
     "output_type": "stream",
     "text": [
      "Before Insertion:  [[ 0  1  2  3  4]\n",
      " [ 0  5  6  7  8]\n",
      " [ 0  9 10 11 12]]\n",
      "After Insertion:  [[ 0  1  2  3  4]\n",
      " [ 0  5  6  7  8]\n",
      " [ 0  9 10 11 12]\n",
      " [ 0 13 14 15 16]]\n"
     ]
    }
   ],
   "source": [
    "print(\"Before Insertion: \", ls)\n",
    "\n",
    "# Appending elements into an array row wise\n",
    "ls = np.append(ls, [[0, 13, 14, 15, 16]], axis = 0)\n",
    "\n",
    "print(\"After Insertion: \", ls)"
   ]
  },
  {
   "cell_type": "markdown",
   "id": "7565d304",
   "metadata": {},
   "source": [
    "## Accessing and traversing a 2D array"
   ]
  },
  {
   "cell_type": "code",
   "execution_count": 22,
   "id": "8e8047e7",
   "metadata": {},
   "outputs": [
    {
     "name": "stdout",
     "output_type": "stream",
     "text": [
      "Enter row value: 1\n",
      "Enter col value: 4\n",
      "8\n"
     ]
    }
   ],
   "source": [
    "def access_value(ls, row, col):\n",
    "    \n",
    "    # Check condition for the input\n",
    "    assert not(row > len(ls) or col > len(ls[0])), \"Out of index input recieved\"\n",
    "    \n",
    "    # Accessing the required element\n",
    "    print(ls[row][col])\n",
    "\n",
    "row = int(input(\"Enter row value: \"))\n",
    "col = int(input(\"Enter col value: \"))\n",
    "access_value(ls, row, col)"
   ]
  },
  {
   "cell_type": "code",
   "execution_count": 24,
   "id": "daf311f0",
   "metadata": {},
   "outputs": [
    {
     "name": "stdout",
     "output_type": "stream",
     "text": [
      "0 1 2 3 4 \n",
      "0 5 6 7 8 \n",
      "0 9 10 11 12 \n",
      "0 13 14 15 16 \n"
     ]
    }
   ],
   "source": [
    "def traversing_2D(ls):\n",
    "    \n",
    "    # Accessing each row\n",
    "    for i in ls:\n",
    "        \n",
    "        # Accessing each col\n",
    "        for j in i:\n",
    "            \n",
    "            # Printing each col\n",
    "            print(j, end = \" \")\n",
    "            \n",
    "        # Printing each row\n",
    "        print()\n",
    "        \n",
    "traversing_2D(ls)"
   ]
  },
  {
   "cell_type": "markdown",
   "id": "b8f81d10",
   "metadata": {},
   "source": [
    "## Searching an element in a 2D Array"
   ]
  },
  {
   "cell_type": "code",
   "execution_count": 27,
   "id": "093a2d38",
   "metadata": {},
   "outputs": [
    {
     "name": "stdout",
     "output_type": "stream",
     "text": [
      "Enter value to be found: -10\n",
      "The element was not found\n"
     ]
    }
   ],
   "source": [
    "'''\n",
    "Searching a 2D array combines the above operation of accessing values and traversing the 2D array alongwith\n",
    "the addition of comparing the values\n",
    "'''\n",
    "\n",
    "def search_2D(ls, value):\n",
    "    for i in range(len(ls)):\n",
    "        for j in range(len(ls[i])):\n",
    "            if ls[i][j] == value:\n",
    "                print(f\"Element was found at {i} row and {j} col\")\n",
    "                break\n",
    "    else:\n",
    "        print(\"The element was not found\")\n",
    "            \n",
    "\n",
    "value = int(input(\"Enter value to be found: \"))\n",
    "search_2D(ls, value)"
   ]
  },
  {
   "cell_type": "markdown",
   "id": "cf29c4bc",
   "metadata": {},
   "source": [
    "## Deletion in a 2D Array\n",
    "\n",
    "- Deletion of elements or rows and columns in a 2D array follows the same pattern as insertion\n",
    "- `Array Name` = np.delete(`Array Name`, `Index`, `Axis`)\n",
    "- Where the modified array is re-assigned to its variable"
   ]
  },
  {
   "cell_type": "code",
   "execution_count": 28,
   "id": "5eb8d96a",
   "metadata": {},
   "outputs": [
    {
     "name": "stdout",
     "output_type": "stream",
     "text": [
      "Before Deletion:  [[ 0  1  2  3  4]\n",
      " [ 0  5  6  7  8]\n",
      " [ 0  9 10 11 12]\n",
      " [ 0 13 14 15 16]]\n",
      "After Deletion:  [[ 1  2  3  4]\n",
      " [ 5  6  7  8]\n",
      " [ 9 10 11 12]\n",
      " [13 14 15 16]]\n"
     ]
    }
   ],
   "source": [
    "print(\"Before Deletion: \", ls)\n",
    "\n",
    "# Deleting the First Column of all the rows\n",
    "ls = np.delete(ls, 0, axis = 1)\n",
    "\n",
    "print(\"After Deletion: \", ls)"
   ]
  },
  {
   "cell_type": "markdown",
   "id": "3023e912",
   "metadata": {},
   "source": [
    "# Working with Python Lists"
   ]
  },
  {
   "cell_type": "markdown",
   "id": "87bfd79d",
   "metadata": {},
   "source": [
    "## Accessing and Traversing a List"
   ]
  },
  {
   "cell_type": "code",
   "execution_count": 29,
   "id": "e9f51379",
   "metadata": {},
   "outputs": [
    {
     "name": "stdout",
     "output_type": "stream",
     "text": [
      "1 2 3 4 5 6 7 8 9 10 "
     ]
    }
   ],
   "source": [
    "ls = [i for i in range(1, 11)]\n",
    "\n",
    "# Printing the elements by accessing a traversing the list\n",
    "for i in range(len(ls)):\n",
    "    print(ls[i], end = \" \")"
   ]
  },
  {
   "cell_type": "markdown",
   "id": "93f457e1",
   "metadata": {},
   "source": [
    "## Updating and Inserting values"
   ]
  },
  {
   "cell_type": "code",
   "execution_count": 32,
   "id": "685e3a73",
   "metadata": {},
   "outputs": [
    {
     "name": "stdout",
     "output_type": "stream",
     "text": [
      "Before Updation:  [-10, 2, 3, 4, 5, 6, 7, 8, 9, 10]\n",
      "After Updation:  [-1, 2, 3, 4, 5, 6, 7, 8, 9, 10]\n"
     ]
    }
   ],
   "source": [
    "# Updating the list\n",
    "print(\"Before Updation: \", ls)\n",
    "ls[0] = -1\n",
    "print(\"After Updation: \", ls)"
   ]
  },
  {
   "cell_type": "markdown",
   "id": "579bae66",
   "metadata": {},
   "source": [
    "## Inserting into a list can be done in many ways\n",
    "\n",
    "- ls.insert(`index`, `value`): Inserting values at a given index\n",
    "- ls.append(`value`): Inserting values at the end of a list\n",
    "- ls.extend(`other list`): Inserting another list at the end of a list"
   ]
  },
  {
   "cell_type": "code",
   "execution_count": 33,
   "id": "46465ffd",
   "metadata": {},
   "outputs": [
    {
     "name": "stdout",
     "output_type": "stream",
     "text": [
      "[-1, 2, 3, 4, 5, 6, 7, 8, 9, 10]\n",
      "After Insertion:  [-1, 0, 1, 2, 3, 4, 5, 6, 7, 8, 9, 10]\n",
      "After Appending:  [-1, 0, 1, 2, 3, 4, 5, 6, 7, 8, 9, 10, 11]\n",
      "After Extending:  [-1, 0, 1, 2, 3, 4, 5, 6, 7, 8, 9, 10, 11, 12, 13, 14, 15]\n"
     ]
    }
   ],
   "source": [
    "print(\"Before Everything: \", ls)\n",
    "\n",
    "ls.insert(1, 0)\n",
    "ls.insert(2, 1)\n",
    "print(\"After Insertion: \", ls)\n",
    "\n",
    "ls.append(11)\n",
    "print(\"After Appending: \", ls)\n",
    "\n",
    "ls.extend([i for i in range(12, 16)])\n",
    "print(\"After Extending: \", ls)"
   ]
  },
  {
   "cell_type": "code",
   "execution_count": null,
   "id": "eed2766d",
   "metadata": {},
   "outputs": [],
   "source": []
  }
 ],
 "metadata": {
  "kernelspec": {
   "display_name": "Python 3 (ipykernel)",
   "language": "python",
   "name": "python3"
  },
  "language_info": {
   "codemirror_mode": {
    "name": "ipython",
    "version": 3
   },
   "file_extension": ".py",
   "mimetype": "text/x-python",
   "name": "python",
   "nbconvert_exporter": "python",
   "pygments_lexer": "ipython3",
   "version": "3.9.13"
  }
 },
 "nbformat": 4,
 "nbformat_minor": 5
}
