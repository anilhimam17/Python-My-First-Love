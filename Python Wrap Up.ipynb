{
 "cells": [
  {
   "cell_type": "markdown",
   "id": "f12b807c",
   "metadata": {},
   "source": [
    "# Reinforcement"
   ]
  },
  {
   "cell_type": "code",
   "execution_count": 7,
   "id": "e9e095a4",
   "metadata": {},
   "outputs": [
    {
     "name": "stdout",
     "output_type": "stream",
     "text": [
      "Enter first int: 1.2\n",
      "Please enter integers\n",
      "The given numbers are multiples of eachother\n"
     ]
    }
   ],
   "source": [
    "# R - 1.1\n",
    "\n",
    "# Helper function\n",
    "def is_multiple(n, m):\n",
    "    \n",
    "    if m % n == 0:\n",
    "        return True\n",
    "    \n",
    "    else:\n",
    "        return -2\n",
    "\n",
    "# Exception Handling the input\n",
    "try:\n",
    "    n = int(input(\"Enter first int: \"))\n",
    "    m = int(input(\"Enter first int: \"))\n",
    "    \n",
    "except ValueError:\n",
    "    print(\"Please enter integers\")\n",
    "\n",
    "# Evaluating the result\n",
    "res = is_multiple(n, m)\n",
    "if res == -1:\n",
    "    print(\"The given numbers arent integers\")\n",
    "    \n",
    "elif res == -2:\n",
    "    print(\"The given numbers arent multiples of eachother\")\n",
    "    \n",
    "else:\n",
    "    print(\"The given numbers are multiples of eachother\")"
   ]
  },
  {
   "cell_type": "code",
   "execution_count": 2,
   "id": "000ca7d8",
   "metadata": {},
   "outputs": [
    {
     "name": "stdout",
     "output_type": "stream",
     "text": [
      "Enter number: 9.5\n",
      "Enter integers\n",
      "The given number is even\n"
     ]
    }
   ],
   "source": [
    "# R - 1.2\n",
    "\n",
    "# Helper function\n",
    "def is_even(n):\n",
    "    \n",
    "    if n % 2 == 0:\n",
    "        return True\n",
    "    \n",
    "    else:\n",
    "        return False\n",
    "\n",
    "# Exception Handling\n",
    "try:\n",
    "    n = int(input(\"Enter number: \"))\n",
    "\n",
    "except ValueError:\n",
    "    print(\"Enter integers\")\n",
    "    \n",
    "# Checking the result\n",
    "if is_even(n):\n",
    "    print(\"The given number is even\")\n",
    "    \n",
    "else:\n",
    "    print(\"The given number is odd\")"
   ]
  },
  {
   "cell_type": "code",
   "execution_count": 10,
   "id": "b9eb36df",
   "metadata": {},
   "outputs": [
    {
     "name": "stdout",
     "output_type": "stream",
     "text": [
      "Enter the length of the array: 5\n",
      "Enter element: 3\n",
      "Enter element: 0\n",
      "Enter element: -100\n",
      "Enter element: 4\n",
      "Enter element: 99\n",
      "The smallest value in the given array is: -100\n",
      "The largest value in the given array is: 99\n"
     ]
    }
   ],
   "source": [
    "# R - 1.3\n",
    "\n",
    "# Helper functions\n",
    "def minmax(arr = []):\n",
    "    \n",
    "    if len(arr) == 0:\n",
    "        return -1\n",
    "    \n",
    "    else:\n",
    "        min_val, max_val = arr[0], arr[0]\n",
    "        \n",
    "        # Traversing the array to find the min and max values\n",
    "        for i in arr:\n",
    "            \n",
    "            if i <= min_val:\n",
    "                min_val = i\n",
    "                \n",
    "            elif i >= max_val:\n",
    "                max_val = i\n",
    "                \n",
    "            else:\n",
    "                continue\n",
    "        \n",
    "        # Returning a tuple of the min and max value\n",
    "        return (min_val, max_val)\n",
    "    \n",
    "def input_arr():\n",
    "    \n",
    "    try:\n",
    "        n = int(input(\"Enter the length of the array: \"))\n",
    "        arr = []\n",
    "\n",
    "        for i in range(n):\n",
    "            x = int(input(\"Enter element: \"))\n",
    "            arr.append(x)\n",
    "            \n",
    "    except ValueError:\n",
    "        print(\"Please enter integers\")\n",
    "        \n",
    "    return arr\n",
    "\n",
    "arr = input_arr()\n",
    "mn, mx = minmax(arr)\n",
    "print(f\"The smallest value in the given array is: {mn}\")\n",
    "print(f\"The largest value in the given array is: {mx}\")"
   ]
  },
  {
   "cell_type": "code",
   "execution_count": 14,
   "id": "636b6904",
   "metadata": {},
   "outputs": [
    {
     "name": "stdout",
     "output_type": "stream",
     "text": [
      "Enter number to find sum of squares: 5\n",
      "30\n"
     ]
    }
   ],
   "source": [
    "# R - 1.4\n",
    "\n",
    "# Helper functions\n",
    "def sum_squares(n):\n",
    "    sum_val = 0\n",
    "    \n",
    "    for i in range(n):\n",
    "        sum_val += i ** 2\n",
    "        \n",
    "    return sum_val\n",
    "\n",
    "try:\n",
    "    n = int(input(\"Enter number to find sum of squares: \"))\n",
    "\n",
    "except ValueError:\n",
    "    print(\"Enter integers\")\n",
    "    \n",
    "print(sum_squares(n))"
   ]
  },
  {
   "cell_type": "code",
   "execution_count": 18,
   "id": "fb17aabf",
   "metadata": {},
   "outputs": [
    {
     "name": "stdout",
     "output_type": "stream",
     "text": [
      "Enter integer: 5\n",
      "10\n"
     ]
    }
   ],
   "source": [
    "# R - 1.5\n",
    "\n",
    "# Helper Functions\n",
    "def sum_odd_ints(n):\n",
    "    sum_val = 0\n",
    "    \n",
    "    for i in range(1, n, 2):\n",
    "        sum_val += i ** 2\n",
    "        \n",
    "    return sum_val\n",
    "\n",
    "try:\n",
    "    n = int(input(\"Enter integer: \"))\n",
    "    \n",
    "except ValueError:\n",
    "    print(\"Enter integers\")\n",
    "        \n",
    "print(sum_odd_ints(n))"
   ]
  },
  {
   "cell_type": "code",
   "execution_count": 22,
   "id": "646088ee",
   "metadata": {},
   "outputs": [
    {
     "name": "stdout",
     "output_type": "stream",
     "text": [
      "50\n",
      "60\n",
      "70\n",
      "80\n"
     ]
    }
   ],
   "source": [
    "# R - 1.9\n",
    "\n",
    "for i in range(50, 90, 10):\n",
    "    print(i)"
   ]
  },
  {
   "cell_type": "code",
   "execution_count": 21,
   "id": "5c4b217a",
   "metadata": {},
   "outputs": [
    {
     "name": "stdout",
     "output_type": "stream",
     "text": [
      "8\n",
      "6\n",
      "4\n",
      "2\n",
      "0\n",
      "-2\n",
      "-4\n",
      "-6\n",
      "-8\n"
     ]
    }
   ],
   "source": [
    "# R - 1.10\n",
    "\n",
    "for i in range(8, -9, -2):\n",
    "    print(i)"
   ]
  },
  {
   "cell_type": "code",
   "execution_count": 24,
   "id": "17e8106c",
   "metadata": {},
   "outputs": [
    {
     "name": "stdout",
     "output_type": "stream",
     "text": [
      "[1, 2, 4, 8, 16, 32, 64, 128]\n"
     ]
    }
   ],
   "source": [
    "# R - 1.11\n",
    "\n",
    "ls = [2 ** i for i in range(8)]\n",
    "print(ls)"
   ]
  },
  {
   "cell_type": "code",
   "execution_count": 38,
   "id": "e158a906",
   "metadata": {},
   "outputs": [
    {
     "name": "stdout",
     "output_type": "stream",
     "text": [
      "Enter the length of the array: 7\n",
      "Enter element: 1\n",
      "Enter element: 2\n",
      "Enter element: 3\n",
      "Enter element: 4\n",
      "Enter element: 5\n",
      "Enter element: 6\n",
      "Enter element: 7\n",
      "4\n"
     ]
    }
   ],
   "source": [
    "# R - 1.12\n",
    "import random\n",
    "\n",
    "# Helper function\n",
    "def choice(arr = []):\n",
    "    \n",
    "    if len(arr) == 0:\n",
    "        return False\n",
    "    \n",
    "    else:\n",
    "        return random.randrange(arr[0], arr[-1])\n",
    "    \n",
    "def input_arr():\n",
    "    arr = []\n",
    "    \n",
    "    try:\n",
    "        n = int(input(\"Enter the length of the array: \"))\n",
    "    \n",
    "    except ValueError:\n",
    "        print(\"Enter integers\")\n",
    "        \n",
    "    for i in range(n):\n",
    "        try:\n",
    "            x = int(input(\"Enter element: \"))\n",
    "            arr.append(x)\n",
    "            \n",
    "        except ValueError:\n",
    "            print(\"Enter integers\")\n",
    "            break\n",
    "        \n",
    "    return arr\n",
    "\n",
    "arr = input_arr()\n",
    "rVal = choice(arr)\n",
    "print(rVal)"
   ]
  },
  {
   "cell_type": "code",
   "execution_count": 36,
   "id": "9c34eecc",
   "metadata": {},
   "outputs": [
    {
     "name": "stdout",
     "output_type": "stream",
     "text": [
      "7\n"
     ]
    }
   ],
   "source": [
    "a = [i for i in range(10)]\n",
    "print(random.randrange(a[0], a[-1]))"
   ]
  },
  {
   "cell_type": "markdown",
   "id": "939dd07c",
   "metadata": {},
   "source": [
    "# Creativity"
   ]
  },
  {
   "cell_type": "code",
   "execution_count": 40,
   "id": "310194df",
   "metadata": {},
   "outputs": [
    {
     "name": "stdout",
     "output_type": "stream",
     "text": [
      "Enter the length of the array: 5\n",
      "Enter element: 1\n",
      "Enter element: 2\n",
      "Enter element: 3\n",
      "Enter element: 4\n",
      "Enter element: 5\n",
      "The array before being reversed:  [1, 2, 3, 4, 5]\n",
      "The array after being reversed:  [5, 4, 3, 2, 1]\n"
     ]
    }
   ],
   "source": [
    "# C - 1.13\n",
    "\n",
    "# Helper functions\n",
    "def reverse(arr):\n",
    "    new_arr = []\n",
    "    \n",
    "    for i in range(-1, -len(arr) - 1, -1):\n",
    "        new_arr.append(arr[i])\n",
    "        \n",
    "    return new_arr\n",
    "\n",
    "def input_arr():\n",
    "    n = int(input(\"Enter the length of the array: \"))\n",
    "    arr = []\n",
    "    \n",
    "    for i in range(n):\n",
    "        inp = int(input(\"Enter element: \"))\n",
    "        arr.append(inp)\n",
    "        \n",
    "    return arr\n",
    "\n",
    "arr = input_arr()\n",
    "print(\"The array before being reversed: \", arr)\n",
    "\n",
    "arr = reverse(arr)\n",
    "print(\"The array after being reversed: \", arr)"
   ]
  },
  {
   "cell_type": "code",
   "execution_count": 41,
   "id": "66501c54",
   "metadata": {},
   "outputs": [
    {
     "name": "stdout",
     "output_type": "stream",
     "text": [
      "Enter the length of the array: 5\n",
      "Enter element: 1\n",
      "Enter element: 2\n",
      "Enter element: 3\n",
      "Enter element: 4\n",
      "Enter element: 5\n",
      "1 1\n",
      "1 3\n",
      "1 5\n",
      "3 1\n",
      "3 3\n",
      "3 5\n",
      "5 1\n",
      "5 3\n",
      "5 5\n"
     ]
    }
   ],
   "source": [
    "# C - 1.14\n",
    "\n",
    "# Helper Functions\n",
    "def odd_product(arr = []):\n",
    "    odd_products = []\n",
    "    \n",
    "    if len(arr) <= 1:\n",
    "        return False\n",
    "    \n",
    "    else:\n",
    "        for i in arr:\n",
    "            for j in arr:\n",
    "                if (j * i) % 2 == 1:\n",
    "                    odd_products.append((i, j))\n",
    "        \n",
    "    return odd_products\n",
    "\n",
    "arr = input_arr()\n",
    "odd_arr = odd_product(arr)\n",
    "\n",
    "for i, j in odd_arr:\n",
    "    print(i, j)"
   ]
  },
  {
   "cell_type": "code",
   "execution_count": 43,
   "id": "1ac2ad00",
   "metadata": {},
   "outputs": [
    {
     "name": "stdout",
     "output_type": "stream",
     "text": [
      "Enter the length of the array: 5\n",
      "Enter element: 1\n",
      "Enter element: 1\n",
      "Enter element: 2\n",
      "Enter element: 3\n",
      "Enter element: 4\n",
      "The elements in the given array aren't distinct\n"
     ]
    }
   ],
   "source": [
    "# C - 1.15\n",
    "\n",
    "def is_distinct(arr = []):\n",
    "    new_arr = []\n",
    "    \n",
    "    for i in arr:\n",
    "        \n",
    "        if i in new_arr:\n",
    "            return False\n",
    "        \n",
    "        else:\n",
    "            new_arr.append(i)\n",
    "            \n",
    "    return True\n",
    "\n",
    "arr = input_arr()\n",
    "res = is_distinct(arr)\n",
    "\n",
    "if res:\n",
    "    print(\"The elements in the given array are distinct\")\n",
    "    \n",
    "else:\n",
    "    print(\"The elements in the given array aren't distinct\")"
   ]
  },
  {
   "cell_type": "code",
   "execution_count": 51,
   "id": "1e1bf3ce",
   "metadata": {},
   "outputs": [
    {
     "ename": "SyntaxError",
     "evalue": "invalid syntax (3302251854.py, line 4)",
     "output_type": "error",
     "traceback": [
      "\u001b[0;36m  Input \u001b[0;32mIn [51]\u001b[0;36m\u001b[0m\n\u001b[0;31m    ls = [sum_val for i in range(10) sum_val += i]\u001b[0m\n\u001b[0m                                     ^\u001b[0m\n\u001b[0;31mSyntaxError\u001b[0m\u001b[0;31m:\u001b[0m invalid syntax\n"
     ]
    }
   ],
   "source": [
    "# C - 1.18\n",
    "\n",
    "sum_val = 0\n",
    "ls = [sum_val for i in range(10) sum_val += i]"
   ]
  },
  {
   "cell_type": "code",
   "execution_count": 53,
   "id": "1918aa2d",
   "metadata": {},
   "outputs": [
    {
     "name": "stdout",
     "output_type": "stream",
     "text": [
      "['a', 'b', 'c', 'd', 'e', 'f', 'g', 'h', 'i', 'j', 'k', 'l', 'm', 'n', 'o', 'p', 'q', 'r', 's', 't', 'u', 'v', 'w', 'x', 'y', 'z']\n"
     ]
    }
   ],
   "source": [
    "# C - 1.19\n",
    "\n",
    "ls = [chr(i) for i in range(97, 123)]\n",
    "print(ls)"
   ]
  },
  {
   "cell_type": "code",
   "execution_count": 3,
   "id": "0312c527",
   "metadata": {},
   "outputs": [
    {
     "name": "stdout",
     "output_type": "stream",
     "text": [
      "Enter length of arr: 7\n",
      "Enter the element: 1\n",
      "Enter the element: 2\n",
      "Enter the element: 3\n",
      "Enter the element: 4\n",
      "Enter the element: 5\n",
      "Enter the element: 6\n",
      "Enter the element: 7\n",
      "The array before shuffling:  [1, 2, 3, 4, 5, 6, 7]\n",
      "The array after shuffling:  [4, 2, 1, 3, 7, 6, 5]\n",
      "[1, 2, 3, 4, 5, 6, 7]\n"
     ]
    }
   ],
   "source": [
    "# C - 1.20\n",
    "import random\n",
    "\n",
    "def shuffle(arr = []):\n",
    "    \n",
    "    if len(arr) <= 1:\n",
    "        return arr\n",
    "    \n",
    "    else:\n",
    "        arr.sort()\n",
    "        new_arr = []\n",
    "        \n",
    "        flag = True\n",
    "        while flag:\n",
    "            \n",
    "            # Generating random values\n",
    "            rVal = random.randint(arr[0], arr[-1])\n",
    "            \n",
    "            if len(new_arr) == len(arr):\n",
    "                flag = False\n",
    "                \n",
    "            elif rVal in new_arr:\n",
    "                continue\n",
    "                \n",
    "            else:\n",
    "                new_arr.append(rVal)\n",
    "                \n",
    "        return new_arr\n",
    "    \n",
    "def input_arr():\n",
    "    \n",
    "    arr = []\n",
    "    size = int(input(\"Enter length of arr: \"))\n",
    "    \n",
    "    for i in range(size):\n",
    "        n = int(input(\"Enter the element: \"))\n",
    "        arr.append(n)\n",
    "            \n",
    "    return arr\n",
    "\n",
    "arr = input_arr()\n",
    "print(\"The array before shuffling: \", arr)\n",
    "\n",
    "new_arr = shuffle(arr)\n",
    "print(\"The array after shuffling: \", new_arr)\n",
    "\n",
    "new_arr.sort()\n",
    "print(new_arr)"
   ]
  },
  {
   "cell_type": "code",
   "execution_count": 9,
   "id": "8cbf1c40",
   "metadata": {},
   "outputs": [
    {
     "name": "stdout",
     "output_type": "stream",
     "text": [
      "Enter length of arr: 0\n",
      "Enter length of arr: 0\n",
      "One or more arrays are empty\n"
     ]
    }
   ],
   "source": [
    "# C - 1.22\n",
    "\n",
    "def dot_product(a = [], b = []):\n",
    "    \n",
    "    if len(a) == 0 or len(b) == 0:\n",
    "        print(\"One or more arrays are empty\")\n",
    "    \n",
    "    elif len(a) != len(b):\n",
    "        print(\"The shape of the arrays dont match\")\n",
    "    \n",
    "    else:\n",
    "        for i in range(len(a)):\n",
    "            product = a[i] * b[i]\n",
    "            print(f\"The product a[{i + 1}] * b[{i + 1}]: {product}\")\n",
    "    \n",
    "arr_1 = input_arr()\n",
    "arr_2 = input_arr()\n",
    "\n",
    "dot_product(arr_1, arr_2)"
   ]
  },
  {
   "cell_type": "markdown",
   "id": "a30be048",
   "metadata": {},
   "source": [
    "# Projects"
   ]
  },
  {
   "cell_type": "code",
   "execution_count": 3,
   "id": "a0fc9fd8",
   "metadata": {},
   "outputs": [
    {
     "name": "stdout",
     "output_type": "stream",
     "text": [
      "The list of strings with the letter c fixed at the start\n",
      "['atdog']\n",
      "\n",
      "The list of strings with the letter a fixed at the start\n",
      "['ctdog']\n",
      "\n",
      "The list of strings with the letter t fixed at the start\n",
      "['cadog']\n",
      "\n",
      "The list of strings with the letter d fixed at the start\n",
      "['catog']\n",
      "\n",
      "The list of strings with the letter o fixed at the start\n",
      "['catdg']\n",
      "\n",
      "The list of strings with the letter g fixed at the start\n",
      "['catdo']\n",
      "\n",
      "['atdog', 'ctdog', 'cadog', 'catog', 'catdg', 'catdo']\n"
     ]
    }
   ],
   "source": [
    "# P - 1.29\n",
    "\n",
    "# List of letters available\n",
    "arr = [\"c\", \"a\", \"t\", \"d\", \"o\", \"g\"]\n",
    "\n",
    "# List of all the strings for all combinations\n",
    "list_of_all_strings = []\n",
    "\n",
    "for i in arr:\n",
    "    # List of new strings\n",
    "    list_of_strings = []\n",
    "    \n",
    "    # Used to create all permutations\n",
    "    for k in range(len(arr)):\n",
    "        \n",
    "        # Creation of new strings\n",
    "        new_str = \"\"\n",
    "        \n",
    "        for j in range(len(arr)):\n",
    "\n",
    "            if arr[j] == i:\n",
    "                continue\n",
    "\n",
    "            elif arr[j] in new_str:\n",
    "                continue\n",
    "\n",
    "            else:\n",
    "                new_str += arr[j]\n",
    "        \n",
    "        if new_str in list_of_strings:\n",
    "            continue\n",
    "            \n",
    "        else:\n",
    "            list_of_strings.append(new_str)\n",
    "    \n",
    "    print(f\"The list of strings with the letter {i} fixed at the start\")\n",
    "    print(list_of_strings)\n",
    "    print()\n",
    "    \n",
    "    list_of_all_strings.extend(list_of_strings)\n",
    "\n",
    "print(list_of_all_strings)"
   ]
  },
  {
   "cell_type": "code",
   "execution_count": 12,
   "id": "c175f3f4",
   "metadata": {},
   "outputs": [
    {
     "name": "stdout",
     "output_type": "stream",
     "text": [
      "Enter the number to find no of divisions: 12\n",
      "3\n"
     ]
    }
   ],
   "source": [
    "# P - 1.30\n",
    "\n",
    "def divide_by_2(n):\n",
    "    \n",
    "    no_of_divisions = 0\n",
    "    while n >= 2:\n",
    "        \n",
    "        n /= 2\n",
    "        no_of_divisions += 1\n",
    "        \n",
    "    if n == 2:\n",
    "        return no_of_divisions + 1\n",
    "    \n",
    "    else:\n",
    "        return no_of_divisions\n",
    "    \n",
    "inp = int(input(\"Enter the number to find no of divisions: \"))\n",
    "print(divide_by_2(inp))"
   ]
  },
  {
   "cell_type": "code",
   "execution_count": 8,
   "id": "2946411f",
   "metadata": {},
   "outputs": [
    {
     "name": "stdout",
     "output_type": "stream",
     "text": [
      "Hey! you think I dont know math. You owe me some more money DUHHHHHHHH !@#$%^\n"
     ]
    }
   ],
   "source": [
    "# P - 1.31\n",
    "\n",
    "def make_change(bill, tender):\n",
    "    \n",
    "    # Total amount to be given\n",
    "    if tender < bill:\n",
    "        print(\"Hey! you think I dont know math. You owe me some more money DUHHHHHHHH !@#$%^\")\n",
    "        \n",
    "    elif tender == bill:\n",
    "        print(\"Thaks for tendering the exact amount, your change is 0.\")\n",
    "        \n",
    "    else:\n",
    "        change = tender - bill\n",
    "        change_dono = {100 : 0, 50 : 0, 20 : 0, 10 : 0, 5 : 0, 1 : 0}\n",
    "        \n",
    "        while change > 0:\n",
    "            \n",
    "            if change >= 100:\n",
    "                change -= 100\n",
    "                change_dono[100] += 1\n",
    "                \n",
    "            elif change >= 50:\n",
    "                change -= 50\n",
    "                change_dono[50] += 1\n",
    "                \n",
    "            elif change >= 20:\n",
    "                change -= 20\n",
    "                change_dono[20] += 1\n",
    "                \n",
    "            elif change >= 10:\n",
    "                change -= 10\n",
    "                change_dono[10] += 1\n",
    "                \n",
    "            elif change >= 5:\n",
    "                change -= 5\n",
    "                change_dono[5] += 1\n",
    "                \n",
    "            else:\n",
    "                change -= 1\n",
    "                change_dono[1] += 1\n",
    "        \n",
    "        items = list(change_dono.items())\n",
    "        items.sort()\n",
    "        \n",
    "        for i, j in items:\n",
    "            print(f\"The change tendered has {j}: {i} denominations\")\n",
    "            \n",
    "make_change(372, 190)"
   ]
  },
  {
   "cell_type": "code",
   "execution_count": 17,
   "id": "2ba0b47b",
   "metadata": {},
   "outputs": [
    {
     "name": "stdout",
     "output_type": "stream",
     "text": [
      "Enter string to be calculated: 9 * (10 + 1 % 6)\n",
      "99\n"
     ]
    }
   ],
   "source": [
    "# P - 1.33\n",
    "\n",
    "inp = eval(input(\"Enter string to be calculated: \"))\n",
    "print(inp)"
   ]
  },
  {
   "cell_type": "code",
   "execution_count": 28,
   "id": "4db706a2",
   "metadata": {},
   "outputs": [
    {
     "name": "stdout",
     "output_type": "stream",
     "text": [
      "Enter the number of chances to find probability: 100\n",
      "The probability of having similar birthdays in 100 people is: 0.7\n",
      "[1, 20, 29, 11, 25, 3, 7, 23, 24, 21, 7, 16, 8, 16, 19, 20, 18, 22, 8, 12, 8, 16, 20, 21, 31, 24, 28, 20, 6, 23, 21, 9, 16, 14, 10, 19, 28, 11, 23, 15, 26, 10, 14, 23, 26, 27, 27, 29, 10, 30, 15, 4, 23, 2, 21, 1, 30, 17, 2, 11, 12, 25, 11, 2, 16, 31, 18, 27, 15, 19, 20, 31, 29, 22, 18, 9, 16, 21, 25, 11, 7, 17, 6, 30, 7, 2, 2, 15, 23, 3, 15, 24, 31, 23, 10, 17, 6, 13, 21, 7]\n"
     ]
    }
   ],
   "source": [
    "# P - 1.35\n",
    "import random\n",
    "\n",
    "def bday_paradox(n):\n",
    "    \n",
    "    # List of random brithdays\n",
    "    bdays = []\n",
    "    sim_count = 0\n",
    "    \n",
    "    for i in range(n):\n",
    "        \n",
    "        # Generating random values\n",
    "        rVal = random.randint(1, 31)\n",
    "        \n",
    "        if rVal in bdays:\n",
    "            sim_count += 1\n",
    "            \n",
    "        bdays.append(rVal)\n",
    "     \n",
    "    print(f\"The probability of having similar birthdays in {n} people is: {sim_count / len(bdays)}\")\n",
    "    print(bdays)\n",
    "\n",
    "n = int(input(\"Enter the number of chances to find probability: \"))\n",
    "bday_paradox(n)"
   ]
  },
  {
   "cell_type": "code",
   "execution_count": 36,
   "id": "b82ffb35",
   "metadata": {},
   "outputs": [
    {
     "name": "stdout",
     "output_type": "stream",
     "text": [
      "{'A': 1, 'preface': 3, 'is': 3, 'an': 3, 'introductory': 1, 'passage': 1, 'written': 3, 'about': 1, 'a': 5, 'book': 4, 'by': 3, 'its': 3, 'author': 2, 'It': 1, 'lays': 1, 'out': 1, 'why': 1, 'the': 8, 'exists': 1, 'subject': 1, 'matter': 1, 'and': 2, 'goals': 1, 'Prefaces': 1, 'are': 2, 'more': 1, 'commonly': 1, 'found': 1, 'in': 2, 'nonfiction': 1, 'books': 1, 'but': 1, 'they': 1, 'can': 1, 'also': 1, 'be': 1, 'used': 1, 'fiction': 1, 'they’re': 1, 'often': 1, 'confused': 1, 'with': 1, 'forewords': 1, 'introductions': 1, 'However': 1, 'there': 1, 'key': 1, 'differences': 1, 'among': 1, 'three': 1, 'gives': 1, 'explanatory': 1, 'context': 1, 'for': 1, 'while': 2, 'introduction': 2, 'dives': 1, 'directly': 1, 'into': 2, 'story': 1, 'segueing': 1, 'smoothly': 1, 'body': 1, 'text': 1, 'And': 1, 'or': 1, 'typically': 1, 'book’s': 1, 'foreword': 1, 'separate': 1, 'person': 1, '—': 1, 'usually': 1, 'expert': 1, 'who': 1, 'lends': 1, 'credibility': 1}\n"
     ]
    }
   ],
   "source": [
    "# P - 1.36\n",
    "import string\n",
    "\n",
    "def word_count(l = \"\"):\n",
    "    \n",
    "    # List of words\n",
    "    words = l.split()\n",
    "    new_words = []\n",
    "    \n",
    "    # Looping to remove punctuation\n",
    "    for i in words:\n",
    "        new_word = \"\"\n",
    "        \n",
    "        for j in i:\n",
    "            \n",
    "            if j in string.punctuation:\n",
    "                continue\n",
    "                \n",
    "            else:\n",
    "                new_word += j\n",
    "        \n",
    "        new_words.append(new_word)\n",
    "        \n",
    "    count_words = {}\n",
    "    \n",
    "    for i in new_words:\n",
    "        \n",
    "        if i in count_words:\n",
    "            count_words[i] += 1\n",
    "            \n",
    "        else:\n",
    "            count_words[i] = 1\n",
    "        \n",
    "    print(count_words)\n",
    "\n",
    "l = \"\"\"A preface is an introductory passage written about a book by its author. \n",
    "It lays out why the book exists, its subject matter, and its goals. \n",
    "Prefaces are more commonly found in nonfiction books, but they can also be used in fiction.\n",
    "they’re often confused with forewords and introductions. However, there are key differences among the three: \n",
    "a preface gives explanatory context for the book, while the introduction dives directly into the story, \n",
    "segueing smoothly into the body text. And while a preface or an introduction is typically written by the book’s \n",
    "author, a foreword is written by a separate person — usually an expert who lends the book credibility.\"\"\"\n",
    "\n",
    "word_count(l)"
   ]
  },
  {
   "cell_type": "code",
   "execution_count": 12,
   "id": "8db7761f",
   "metadata": {},
   "outputs": [
    {
     "name": "stdout",
     "output_type": "stream",
     "text": [
      "11\n",
      "11\n",
      "1000\n",
      "1011\n",
      "9000\n",
      "10011\n",
      "80000\n",
      "90011\n",
      "700000\n",
      "790011\n",
      "6000000\n",
      "6790011\n",
      "50000000\n",
      "56790011\n",
      "400000000\n",
      "456790011\n",
      "3000000000\n",
      "3456790011\n",
      "20000000000\n",
      "23456790011\n",
      "100000000000\n",
      "123456790011\n"
     ]
    }
   ],
   "source": [
    "digit_carry = 0\n",
    "sum_val = 0\n",
    "n = 11\n",
    "\n",
    "for i in range(n, 0, -1):\n",
    "    if i == n:\n",
    "        net = i * (10 ** digit_carry)\n",
    "    \n",
    "    elif i >= 100 and i <= 999:\n",
    "        net = i * (10 ** (digit_carry + 2))\n",
    "        \n",
    "    else:\n",
    "        net = i * (10 ** (digit_carry + 1))\n",
    "        \n",
    "    print(net)\n",
    "    sum_val += net\n",
    "    print(sum_val)\n",
    "    digit_carry += 1"
   ]
  },
  {
   "cell_type": "code",
   "execution_count": null,
   "id": "28b8537f",
   "metadata": {
    "collapsed": true
   },
   "outputs": [],
   "source": []
  }
 ],
 "metadata": {
  "kernelspec": {
   "display_name": "Python 3 (ipykernel)",
   "language": "python",
   "name": "python3"
  },
  "language_info": {
   "codemirror_mode": {
    "name": "ipython",
    "version": 3
   },
   "file_extension": ".py",
   "mimetype": "text/x-python",
   "name": "python",
   "nbconvert_exporter": "python",
   "pygments_lexer": "ipython3",
   "version": "3.9.12"
  }
 },
 "nbformat": 4,
 "nbformat_minor": 5
}
