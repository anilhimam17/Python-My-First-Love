{
 "cells": [
  {
   "cell_type": "code",
   "execution_count": 3,
   "metadata": {},
   "outputs": [
    {
     "name": "stdout",
     "output_type": "stream",
     "text": [
      "Hello, World\n",
      "\n",
      "Hey Python, how have you been ?\n",
      "This is your friend Anil from high school and he is back\n",
      "As the new year of 2023 nears I have finally relaised to use my full potential this time around\n",
      "and finally wake up from the sleep I have been put to for the past three years.\n",
      "Lets help each other out with pride and joy while we enjoy this process of learning like we used to ...\n",
      "\n"
     ]
    }
   ],
   "source": [
    "print(\"Hello, World\")\n",
    "print(\"\"\"\n",
    "Hey Python, how have you been ?\n",
    "This is your friend Anil from high school and he is back\n",
    "As the new year of 2023 nears I have finally relaised to use my full potential this time around\n",
    "and finally wake up from the sleep I have been put to for the past three years.\n",
    "Lets help each other out with pride and joy while we enjoy this process of learning like we used to ...\n",
    "\"\"\")"
   ]
  },
  {
   "cell_type": "code",
   "execution_count": null,
   "metadata": {},
   "outputs": [],
   "source": []
  }
 ],
 "metadata": {
  "kernelspec": {
   "display_name": "Python 3",
   "language": "python",
   "name": "python3"
  },
  "language_info": {
   "codemirror_mode": {
    "name": "ipython",
    "version": 3
   },
   "file_extension": ".py",
   "mimetype": "text/x-python",
   "name": "python",
   "nbconvert_exporter": "python",
   "pygments_lexer": "ipython3",
   "version": "3.9.6"
  },
  "orig_nbformat": 4,
  "vscode": {
   "interpreter": {
    "hash": "31f2aee4e71d21fbe5cf8b01ff0e069b9275f58929596ceb00d14d90e3e16cd6"
   }
  }
 },
 "nbformat": 4,
 "nbformat_minor": 2
}
